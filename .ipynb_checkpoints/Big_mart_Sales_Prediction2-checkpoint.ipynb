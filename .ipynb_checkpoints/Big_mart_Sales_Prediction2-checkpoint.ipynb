{
 "cells": [
  {
   "cell_type": "markdown",
   "metadata": {
    "id": "M7wTftbN6SUC"
   },
   "source": [
    "**Import Libraries**\n",
    "\n",
    "\n",
    "\n",
    "\n",
    "\n",
    "\n",
    "\n",
    "\n",
    "\n",
    "\n"
   ]
  },
  {
   "cell_type": "code",
   "execution_count": 1,
   "metadata": {
    "executionInfo": {
     "elapsed": 440,
     "status": "ok",
     "timestamp": 1661759196562,
     "user": {
      "displayName": "Sarath NS",
      "userId": "16515145246420768626"
     },
     "user_tz": -330
    },
    "id": "KejY-yXD6HQZ"
   },
   "outputs": [],
   "source": [
    "import pandas as pd\n",
    "import numpy as np\n",
    "import matplotlib.pyplot as plt\n",
    "import seaborn as sns\n",
    "%matplotlib inline\n",
    "import warnings\n",
    "warnings.filterwarnings(\"ignore\", category=FutureWarning)\n",
    "warnings.filterwarnings(\"ignore\")\n",
    "\n",
    "from sklearn.preprocessing import *\n",
    "from sklearn import metrics\n",
    "from sklearn.metrics import mean_squared_error, r2_score\n",
    "from sklearn.metrics import accuracy_score\n",
    "from sklearn.model_selection import train_test_split\n",
    "from sklearn.linear_model import LinearRegression\n",
    "from sklearn.tree import DecisionTreeRegressor \n",
    "from sklearn.ensemble import RandomForestRegressor\n",
    "from sklearn.ensemble import VotingRegressor\n",
    "from sklearn.ensemble import AdaBoostRegressor\n",
    "from sklearn.ensemble import GradientBoostingRegressor\n",
    "from sklearn.svm import SVR"
   ]
  },
  {
   "cell_type": "markdown",
   "metadata": {
    "id": "roroCvuH7MTx"
   },
   "source": [
    "**Load Dataset**\n",
    "\n"
   ]
  },
  {
   "cell_type": "code",
   "execution_count": 2,
   "metadata": {
    "colab": {
     "base_uri": "https://localhost:8080/",
     "height": 357
    },
    "executionInfo": {
     "elapsed": 1433,
     "status": "ok",
     "timestamp": 1661759198479,
     "user": {
      "displayName": "Sarath NS",
      "userId": "16515145246420768626"
     },
     "user_tz": -330
    },
    "id": "A8d67PbAFO77",
    "outputId": "14267eaf-cc55-4cf8-d41c-b8c1ba6660ce"
   },
   "outputs": [
    {
     "data": {
      "text/html": [
       "<div>\n",
       "<style scoped>\n",
       "    .dataframe tbody tr th:only-of-type {\n",
       "        vertical-align: middle;\n",
       "    }\n",
       "\n",
       "    .dataframe tbody tr th {\n",
       "        vertical-align: top;\n",
       "    }\n",
       "\n",
       "    .dataframe thead th {\n",
       "        text-align: right;\n",
       "    }\n",
       "</style>\n",
       "<table border=\"1\" class=\"dataframe\">\n",
       "  <thead>\n",
       "    <tr style=\"text-align: right;\">\n",
       "      <th></th>\n",
       "      <th>Item_Identifier</th>\n",
       "      <th>Item_Weight</th>\n",
       "      <th>Item_Fat_Content</th>\n",
       "      <th>Item_Visibility</th>\n",
       "      <th>Item_Type</th>\n",
       "      <th>Item_MRP</th>\n",
       "      <th>Outlet_Identifier</th>\n",
       "      <th>Outlet_Establishment_Year</th>\n",
       "      <th>Outlet_Size</th>\n",
       "      <th>Outlet_Location_Type</th>\n",
       "      <th>Outlet_Type</th>\n",
       "      <th>Item_Outlet_Sales</th>\n",
       "    </tr>\n",
       "  </thead>\n",
       "  <tbody>\n",
       "    <tr>\n",
       "      <th>0</th>\n",
       "      <td>FDA15</td>\n",
       "      <td>9.30</td>\n",
       "      <td>Low Fat</td>\n",
       "      <td>0.016047</td>\n",
       "      <td>Dairy</td>\n",
       "      <td>249.8092</td>\n",
       "      <td>OUT049</td>\n",
       "      <td>1999</td>\n",
       "      <td>Medium</td>\n",
       "      <td>Tier 1</td>\n",
       "      <td>Supermarket Type1</td>\n",
       "      <td>3735.1380</td>\n",
       "    </tr>\n",
       "    <tr>\n",
       "      <th>1</th>\n",
       "      <td>DRC01</td>\n",
       "      <td>5.92</td>\n",
       "      <td>Regular</td>\n",
       "      <td>0.019278</td>\n",
       "      <td>Soft Drinks</td>\n",
       "      <td>48.2692</td>\n",
       "      <td>OUT018</td>\n",
       "      <td>2009</td>\n",
       "      <td>Medium</td>\n",
       "      <td>Tier 3</td>\n",
       "      <td>Supermarket Type2</td>\n",
       "      <td>443.4228</td>\n",
       "    </tr>\n",
       "    <tr>\n",
       "      <th>2</th>\n",
       "      <td>FDN15</td>\n",
       "      <td>17.50</td>\n",
       "      <td>Low Fat</td>\n",
       "      <td>0.016760</td>\n",
       "      <td>Meat</td>\n",
       "      <td>141.6180</td>\n",
       "      <td>OUT049</td>\n",
       "      <td>1999</td>\n",
       "      <td>Medium</td>\n",
       "      <td>Tier 1</td>\n",
       "      <td>Supermarket Type1</td>\n",
       "      <td>2097.2700</td>\n",
       "    </tr>\n",
       "    <tr>\n",
       "      <th>3</th>\n",
       "      <td>FDX07</td>\n",
       "      <td>19.20</td>\n",
       "      <td>Regular</td>\n",
       "      <td>0.000000</td>\n",
       "      <td>Fruits and Vegetables</td>\n",
       "      <td>182.0950</td>\n",
       "      <td>OUT010</td>\n",
       "      <td>1998</td>\n",
       "      <td>NaN</td>\n",
       "      <td>Tier 3</td>\n",
       "      <td>Grocery Store</td>\n",
       "      <td>732.3800</td>\n",
       "    </tr>\n",
       "    <tr>\n",
       "      <th>4</th>\n",
       "      <td>NCD19</td>\n",
       "      <td>8.93</td>\n",
       "      <td>Low Fat</td>\n",
       "      <td>0.000000</td>\n",
       "      <td>Household</td>\n",
       "      <td>53.8614</td>\n",
       "      <td>OUT013</td>\n",
       "      <td>1987</td>\n",
       "      <td>High</td>\n",
       "      <td>Tier 3</td>\n",
       "      <td>Supermarket Type1</td>\n",
       "      <td>994.7052</td>\n",
       "    </tr>\n",
       "  </tbody>\n",
       "</table>\n",
       "</div>"
      ],
      "text/plain": [
       "  Item_Identifier  Item_Weight Item_Fat_Content  Item_Visibility  \\\n",
       "0           FDA15         9.30          Low Fat         0.016047   \n",
       "1           DRC01         5.92          Regular         0.019278   \n",
       "2           FDN15        17.50          Low Fat         0.016760   \n",
       "3           FDX07        19.20          Regular         0.000000   \n",
       "4           NCD19         8.93          Low Fat         0.000000   \n",
       "\n",
       "               Item_Type  Item_MRP Outlet_Identifier  \\\n",
       "0                  Dairy  249.8092            OUT049   \n",
       "1            Soft Drinks   48.2692            OUT018   \n",
       "2                   Meat  141.6180            OUT049   \n",
       "3  Fruits and Vegetables  182.0950            OUT010   \n",
       "4              Household   53.8614            OUT013   \n",
       "\n",
       "   Outlet_Establishment_Year Outlet_Size Outlet_Location_Type  \\\n",
       "0                       1999      Medium               Tier 1   \n",
       "1                       2009      Medium               Tier 3   \n",
       "2                       1999      Medium               Tier 1   \n",
       "3                       1998         NaN               Tier 3   \n",
       "4                       1987        High               Tier 3   \n",
       "\n",
       "         Outlet_Type  Item_Outlet_Sales  \n",
       "0  Supermarket Type1          3735.1380  \n",
       "1  Supermarket Type2           443.4228  \n",
       "2  Supermarket Type1          2097.2700  \n",
       "3      Grocery Store           732.3800  \n",
       "4  Supermarket Type1           994.7052  "
      ]
     },
     "execution_count": 2,
     "metadata": {},
     "output_type": "execute_result"
    }
   ],
   "source": [
    "train=pd.read_csv(\"/home/user/PROJECTS/Big_mart_Sales_Prediction/train.csv\")\n",
    "test=pd.read_csv(\"/home/user/PROJECTS/Big_mart_Sales_Prediction/test.csv\")\n",
    "train.head()\n"
   ]
  },
  {
   "cell_type": "markdown",
   "metadata": {
    "id": "6YlMnSJLHZ4_"
   },
   "source": [
    "# **Basic EDA**"
   ]
  },
  {
   "cell_type": "code",
   "execution_count": 3,
   "metadata": {
    "colab": {
     "base_uri": "https://localhost:8080/"
    },
    "executionInfo": {
     "elapsed": 29,
     "status": "ok",
     "timestamp": 1661759198480,
     "user": {
      "displayName": "Sarath NS",
      "userId": "16515145246420768626"
     },
     "user_tz": -330
    },
    "id": "Ya_iSTmbFO7_",
    "outputId": "244ffc19-b06e-4d59-f732-134efe656426"
   },
   "outputs": [
    {
     "name": "stdout",
     "output_type": "stream",
     "text": [
      "Total Rows    : 8523\n",
      "Total Columns : 12\n",
      "-----------------------------------------------------------\n",
      "<class 'pandas.core.frame.DataFrame'>\n",
      "RangeIndex: 8523 entries, 0 to 8522\n",
      "Data columns (total 12 columns):\n",
      " #   Column                     Non-Null Count  Dtype  \n",
      "---  ------                     --------------  -----  \n",
      " 0   Item_Identifier            8523 non-null   object \n",
      " 1   Item_Weight                7060 non-null   float64\n",
      " 2   Item_Fat_Content           8523 non-null   object \n",
      " 3   Item_Visibility            8523 non-null   float64\n",
      " 4   Item_Type                  8523 non-null   object \n",
      " 5   Item_MRP                   8523 non-null   float64\n",
      " 6   Outlet_Identifier          8523 non-null   object \n",
      " 7   Outlet_Establishment_Year  8523 non-null   int64  \n",
      " 8   Outlet_Size                6113 non-null   object \n",
      " 9   Outlet_Location_Type       8523 non-null   object \n",
      " 10  Outlet_Type                8523 non-null   object \n",
      " 11  Item_Outlet_Sales          8523 non-null   float64\n",
      "dtypes: float64(4), int64(1), object(7)\n",
      "memory usage: 799.2+ KB\n",
      "None\n"
     ]
    }
   ],
   "source": [
    "print(f\"Total Rows    : {train.shape[0]}\")\n",
    "print(f\"Total Columns : {train.shape[1]}\")\n",
    "print(\"-----------------------------------------------------------\")\n",
    "print(train.info())"
   ]
  },
  {
   "cell_type": "code",
   "execution_count": 4,
   "metadata": {
    "colab": {
     "base_uri": "https://localhost:8080/"
    },
    "executionInfo": {
     "elapsed": 21,
     "status": "ok",
     "timestamp": 1661759198481,
     "user": {
      "displayName": "Sarath NS",
      "userId": "16515145246420768626"
     },
     "user_tz": -330
    },
    "id": "B-O2Pk5WFO8A",
    "outputId": "8bc02bfd-6e39-4dca-9971-47787454c5fa"
   },
   "outputs": [
    {
     "data": {
      "text/plain": [
       "Item_Identifier              1559\n",
       "Item_Weight                   415\n",
       "Item_Fat_Content                5\n",
       "Item_Visibility              7880\n",
       "Item_Type                      16\n",
       "Item_MRP                     5938\n",
       "Outlet_Identifier              10\n",
       "Outlet_Establishment_Year       9\n",
       "Outlet_Size                     3\n",
       "Outlet_Location_Type            3\n",
       "Outlet_Type                     4\n",
       "Item_Outlet_Sales            3493\n",
       "dtype: int64"
      ]
     },
     "execution_count": 4,
     "metadata": {},
     "output_type": "execute_result"
    }
   ],
   "source": [
    "# Checking unique values\n",
    "train.nunique()"
   ]
  },
  {
   "cell_type": "code",
   "execution_count": 5,
   "metadata": {
    "colab": {
     "base_uri": "https://localhost:8080/"
    },
    "executionInfo": {
     "elapsed": 593,
     "status": "ok",
     "timestamp": 1661759199059,
     "user": {
      "displayName": "Sarath NS",
      "userId": "16515145246420768626"
     },
     "user_tz": -330
    },
    "id": "-Q8eGEc6FO8A",
    "outputId": "0e94669e-2225-4eab-b801-7a1a28dcbe67"
   },
   "outputs": [
    {
     "data": {
      "text/plain": [
       "Item_Identifier                 0\n",
       "Item_Weight                  1463\n",
       "Item_Fat_Content                0\n",
       "Item_Visibility                 0\n",
       "Item_Type                       0\n",
       "Item_MRP                        0\n",
       "Outlet_Identifier               0\n",
       "Outlet_Establishment_Year       0\n",
       "Outlet_Size                  2410\n",
       "Outlet_Location_Type            0\n",
       "Outlet_Type                     0\n",
       "Item_Outlet_Sales               0\n",
       "dtype: int64"
      ]
     },
     "execution_count": 5,
     "metadata": {},
     "output_type": "execute_result"
    }
   ],
   "source": [
    "# Checking null values\n",
    "train.isnull().sum()"
   ]
  },
  {
   "cell_type": "code",
   "execution_count": 6,
   "metadata": {
    "colab": {
     "base_uri": "https://localhost:8080/",
     "height": 206
    },
    "executionInfo": {
     "elapsed": 38,
     "status": "ok",
     "timestamp": 1661759199061,
     "user": {
      "displayName": "Sarath NS",
      "userId": "16515145246420768626"
     },
     "user_tz": -330
    },
    "id": "B4VJ1_UoGQ-X",
    "outputId": "b496012d-fa4a-409d-b496-6da9d41151f1"
   },
   "outputs": [
    {
     "data": {
      "text/html": [
       "<div>\n",
       "<style scoped>\n",
       "    .dataframe tbody tr th:only-of-type {\n",
       "        vertical-align: middle;\n",
       "    }\n",
       "\n",
       "    .dataframe tbody tr th {\n",
       "        vertical-align: top;\n",
       "    }\n",
       "\n",
       "    .dataframe thead th {\n",
       "        text-align: right;\n",
       "    }\n",
       "</style>\n",
       "<table border=\"1\" class=\"dataframe\">\n",
       "  <thead>\n",
       "    <tr style=\"text-align: right;\">\n",
       "      <th></th>\n",
       "      <th>count</th>\n",
       "      <th>mean</th>\n",
       "      <th>std</th>\n",
       "      <th>min</th>\n",
       "      <th>25%</th>\n",
       "      <th>50%</th>\n",
       "      <th>75%</th>\n",
       "      <th>max</th>\n",
       "    </tr>\n",
       "  </thead>\n",
       "  <tbody>\n",
       "    <tr>\n",
       "      <th>Item_Weight</th>\n",
       "      <td>7060.0</td>\n",
       "      <td>12.857645</td>\n",
       "      <td>4.643456</td>\n",
       "      <td>4.555</td>\n",
       "      <td>8.773750</td>\n",
       "      <td>12.600000</td>\n",
       "      <td>16.850000</td>\n",
       "      <td>21.350000</td>\n",
       "    </tr>\n",
       "    <tr>\n",
       "      <th>Item_Visibility</th>\n",
       "      <td>8523.0</td>\n",
       "      <td>0.066132</td>\n",
       "      <td>0.051598</td>\n",
       "      <td>0.000</td>\n",
       "      <td>0.026989</td>\n",
       "      <td>0.053931</td>\n",
       "      <td>0.094585</td>\n",
       "      <td>0.328391</td>\n",
       "    </tr>\n",
       "    <tr>\n",
       "      <th>Item_MRP</th>\n",
       "      <td>8523.0</td>\n",
       "      <td>140.992782</td>\n",
       "      <td>62.275067</td>\n",
       "      <td>31.290</td>\n",
       "      <td>93.826500</td>\n",
       "      <td>143.012800</td>\n",
       "      <td>185.643700</td>\n",
       "      <td>266.888400</td>\n",
       "    </tr>\n",
       "    <tr>\n",
       "      <th>Outlet_Establishment_Year</th>\n",
       "      <td>8523.0</td>\n",
       "      <td>1997.831867</td>\n",
       "      <td>8.371760</td>\n",
       "      <td>1985.000</td>\n",
       "      <td>1987.000000</td>\n",
       "      <td>1999.000000</td>\n",
       "      <td>2004.000000</td>\n",
       "      <td>2009.000000</td>\n",
       "    </tr>\n",
       "    <tr>\n",
       "      <th>Item_Outlet_Sales</th>\n",
       "      <td>8523.0</td>\n",
       "      <td>2181.288914</td>\n",
       "      <td>1706.499616</td>\n",
       "      <td>33.290</td>\n",
       "      <td>834.247400</td>\n",
       "      <td>1794.331000</td>\n",
       "      <td>3101.296400</td>\n",
       "      <td>13086.964800</td>\n",
       "    </tr>\n",
       "  </tbody>\n",
       "</table>\n",
       "</div>"
      ],
      "text/plain": [
       "                            count         mean          std       min  \\\n",
       "Item_Weight                7060.0    12.857645     4.643456     4.555   \n",
       "Item_Visibility            8523.0     0.066132     0.051598     0.000   \n",
       "Item_MRP                   8523.0   140.992782    62.275067    31.290   \n",
       "Outlet_Establishment_Year  8523.0  1997.831867     8.371760  1985.000   \n",
       "Item_Outlet_Sales          8523.0  2181.288914  1706.499616    33.290   \n",
       "\n",
       "                                   25%          50%          75%           max  \n",
       "Item_Weight                   8.773750    12.600000    16.850000     21.350000  \n",
       "Item_Visibility               0.026989     0.053931     0.094585      0.328391  \n",
       "Item_MRP                     93.826500   143.012800   185.643700    266.888400  \n",
       "Outlet_Establishment_Year  1987.000000  1999.000000  2004.000000   2009.000000  \n",
       "Item_Outlet_Sales           834.247400  1794.331000  3101.296400  13086.964800  "
      ]
     },
     "execution_count": 6,
     "metadata": {},
     "output_type": "execute_result"
    }
   ],
   "source": [
    "# Describing data\n",
    "train.describe().T\n"
   ]
  },
  {
   "cell_type": "code",
   "execution_count": 7,
   "metadata": {
    "colab": {
     "base_uri": "https://localhost:8080/"
    },
    "executionInfo": {
     "elapsed": 28,
     "status": "ok",
     "timestamp": 1661759199062,
     "user": {
      "displayName": "Sarath NS",
      "userId": "16515145246420768626"
     },
     "user_tz": -330
    },
    "id": "sy40wr5YHqYe",
    "outputId": "a5698234-b967-4cb9-bfd6-368c0334b93c"
   },
   "outputs": [
    {
     "data": {
      "text/plain": [
       "Item_Weight                  0.014123\n",
       "Item_Visibility             -0.128625\n",
       "Item_MRP                     0.567574\n",
       "Outlet_Establishment_Year   -0.049135\n",
       "Item_Outlet_Sales            1.000000\n",
       "Name: Item_Outlet_Sales, dtype: float64"
      ]
     },
     "execution_count": 7,
     "metadata": {},
     "output_type": "execute_result"
    }
   ],
   "source": [
    "# Correlation on Dataset based on Target variable\n",
    "train.corr()['Item_Outlet_Sales']\n"
   ]
  },
  {
   "cell_type": "code",
   "execution_count": 8,
   "metadata": {
    "colab": {
     "base_uri": "https://localhost:8080/",
     "height": 554
    },
    "executionInfo": {
     "elapsed": 447,
     "status": "ok",
     "timestamp": 1661759199492,
     "user": {
      "displayName": "Sarath NS",
      "userId": "16515145246420768626"
     },
     "user_tz": -330
    },
    "id": "bcNV8ZGSH3Dv",
    "outputId": "36344bae-d8c8-4df7-8fd5-8beb71a87898"
   },
   "outputs": [
    {
     "data": {
      "image/png": "[encoded data removed]",
      "text/plain": [
       "<Figure size 1008x648 with 2 Axes>"
      ]
     },
     "metadata": {
      "needs_background": "light"
     },
     "output_type": "display_data"
    }
   ],
   "source": [
    "# Correlation using Heat Map in Input Dataset\n",
    "\n",
    "plt.figure(figsize=(14,9))\n",
    "sns.heatmap(train.corr(),annot=True,cmap=\"YlGnBu\")\n",
    "plt.title(\"Correlation plot - Heat Map\")\n",
    "plt.show()\n"
   ]
  },
  {
   "cell_type": "code",
   "execution_count": null,
   "metadata": {
    "colab": {
     "background_save": true
    },
    "id": "pccfCvLDJRBs"
   },
   "outputs": [],
   "source": [
    "# Pairplot using sns\n",
    "sns.pairplot(train,hue=\"Item_Outlet_Sales\")\n"
   ]
  },
  {
   "cell_type": "markdown",
   "metadata": {
    "id": "LA70lGO_ISdt"
   },
   "source": [
    "# Missing Value Treatment\n",
    "\n"
   ]
  },
  {
   "cell_type": "code",
   "execution_count": null,
   "metadata": {
    "colab": {
     "background_save": true
    },
    "id": "jMiLoQcyIEve"
   },
   "outputs": [],
   "source": [
    "# Checking null values\n",
    "train.isnull().sum()"
   ]
  },
  {
   "cell_type": "code",
   "execution_count": null,
   "metadata": {
    "colab": {
     "background_save": true
    },
    "id": "1k_bekh7FO8C"
   },
   "outputs": [],
   "source": [
    "# Impute Missing Values \n",
    "\n",
    "train['Item_Weight'].fillna(train['Item_Weight'].mean(), inplace = True)\n",
    "train['Outlet_Size'].fillna(train['Outlet_Size'].mode()[0],inplace=True)\n",
    "\n",
    "train.isnull().sum()\n"
   ]
  },
  {
   "cell_type": "code",
   "execution_count": null,
   "metadata": {
    "colab": {
     "background_save": true
    },
    "id": "fldEU4MCJPCL"
   },
   "outputs": [],
   "source": [
    "train['Outlet_Year'] = 2022 - train['Outlet_Establishment_Year']"
   ]
  },
  {
   "cell_type": "code",
   "execution_count": null,
   "metadata": {
    "colab": {
     "background_save": true
    },
    "id": "DjMXVqPBFO8E"
   },
   "outputs": [],
   "source": [
    "# Dropping unwanted features\n",
    "train.drop([\"Outlet_Establishment_Year\",\"Item_Identifier\",\"Outlet_Identifier\"],inplace = True,axis =1)"
   ]
  },
  {
   "cell_type": "markdown",
   "metadata": {
    "id": "KNOAJrwdIZOZ"
   },
   "source": [
    "# Outlier Treatment"
   ]
  },
  {
   "cell_type": "code",
   "execution_count": null,
   "metadata": {
    "colab": {
     "background_save": true
    },
    "id": "fcXl81EZI7dR"
   },
   "outputs": [],
   "source": [
    "# Outlier detection using Box plot\n",
    "\n",
    "train.plot(kind=\"box\", subplots=True, layout=(3,3), figsize=(10,10))\n",
    "plt.show()\n",
    "\n"
   ]
  },
  {
   "cell_type": "code",
   "execution_count": null,
   "metadata": {
    "colab": {
     "background_save": true
    },
    "id": "R9dZZ-n-FO8I"
   },
   "outputs": [],
   "source": [
    "# Handling Outliers with Percentile\n",
    "\n",
    "cols = ['Item_Visibility','Item_Visibility']\n",
    "\n",
    "for column in cols:\n",
    "  uplimit = train[column].quantile(0.95)\n",
    "  lowlimit = train[column].quantile(0.05)\n",
    "  train.loc[(train[column] > uplimit),column] = uplimit\n",
    "  train.loc[(train[column] < lowlimit),column] = lowlimit\n",
    "\n"
   ]
  },
  {
   "cell_type": "code",
   "execution_count": null,
   "metadata": {
    "colab": {
     "background_save": true
    },
    "id": "SIAIr6gPFO8J"
   },
   "outputs": [],
   "source": [
    "#cols = ['Item_Visibility','Item_Visibility']\n",
    "\n",
    "#for column in cols:\n",
    "#  upper_lim=train[column].mean()+train[column].std() *3\n",
    "#  lower_lim=train[column].mean()-train[column].std() *3\n",
    "\n",
    "#  train.loc[(train[column] > upper_lim),column] = upper_lim\n",
    "#  train.loc[(train[column] < lower_lim),column] = lower_lim\n"
   ]
  },
  {
   "cell_type": "markdown",
   "metadata": {
    "id": "PmNW9Unl9_Vk"
   },
   "source": [
    "# Exploring Categorical Data\n",
    "\n"
   ]
  },
  {
   "cell_type": "code",
   "execution_count": null,
   "metadata": {
    "colab": {
     "background_save": true
    },
    "id": "HNRtcPMdFO8M"
   },
   "outputs": [],
   "source": [
    "objectCols = train.select_dtypes(include=np.object).columns\n",
    "train[objectCols].head()"
   ]
  },
  {
   "cell_type": "code",
   "execution_count": null,
   "metadata": {
    "colab": {
     "background_save": true
    },
    "id": "Fr6kYC54FO8M"
   },
   "outputs": [],
   "source": [
    "print(f\"Outlet Size          : {train['Outlet_Size'].unique()}\")\n",
    "print(f\"Item Fat Content     : {train['Item_Fat_Content'].unique()}\")\n",
    "print(f\"Outlet LOcation Type : {train['Outlet_Location_Type'].unique()}\")\n",
    "print(f\"Item_Type            : {train['Item_Type'].unique()}\")\n",
    "print(f\"Outlet_Type          : {train['Outlet_Type'].unique()}\")\n",
    "\n",
    "objectCols.unique()\n"
   ]
  },
  {
   "cell_type": "code",
   "execution_count": null,
   "metadata": {
    "colab": {
     "background_save": true
    },
    "id": "NEyv7POUFO8N"
   },
   "outputs": [],
   "source": [
    "# Mapping \n",
    "\n",
    "train['Outlet_Size'] = train['Outlet_Size'].map({\"Small\":1,\"Medium\":2,\"High\":3})\n",
    "train['Item_Fat_Content'] = train['Item_Fat_Content'].map({'LF':'Low Fat','reg':'Regular','low fat':'Low Fat'})\n",
    "train['Outlet_Location_Type'] = train['Outlet_Location_Type'].map({'Tier 1':1, 'Tier 2':2, 'Tier 3':3})"
   ]
  },
  {
   "cell_type": "code",
   "execution_count": null,
   "metadata": {
    "colab": {
     "background_save": true
    },
    "id": "WLsGDAjNFO8O"
   },
   "outputs": [],
   "source": [
    "train['Item_Fat_Content'].unique()"
   ]
  },
  {
   "cell_type": "code",
   "execution_count": null,
   "metadata": {
    "colab": {
     "background_save": true
    },
    "id": "HsSmIRtCFO8P"
   },
   "outputs": [],
   "source": [
    "train.isnull().sum()"
   ]
  },
  {
   "cell_type": "code",
   "execution_count": null,
   "metadata": {
    "colab": {
     "background_save": true
    },
    "id": "q1DA-ykXFO8P"
   },
   "outputs": [],
   "source": [
    "train['Item_Fat_Content'].fillna(train['Item_Fat_Content'].mode()[0],inplace=True)\n",
    "train.isnull().sum()"
   ]
  },
  {
   "cell_type": "code",
   "execution_count": null,
   "metadata": {
    "colab": {
     "background_save": true
    },
    "id": "IO4vFO5pDtNj"
   },
   "outputs": [],
   "source": [
    "train['Item_Fat_Content'].value_counts()"
   ]
  },
  {
   "cell_type": "markdown",
   "metadata": {
    "id": "gIfye0fRQeFq"
   },
   "source": [
    "# Convert categorical columns into numerical values"
   ]
  },
  {
   "cell_type": "markdown",
   "metadata": {
    "id": "77twunnv86--"
   },
   "source": [
    "**1.Label Encoding**"
   ]
  },
  {
   "cell_type": "code",
   "execution_count": null,
   "metadata": {
    "colab": {
     "background_save": true
    },
    "id": "RIoEPAweFO8S"
   },
   "outputs": [],
   "source": [
    "le = LabelEncoder() \n",
    "train['Item_Fat_Content']= le.fit_transform(train['Item_Fat_Content']) \n",
    "train['Outlet_Location_Type']=le.fit_transform(train['Outlet_Location_Type'])"
   ]
  },
  {
   "cell_type": "markdown",
   "metadata": {
    "id": "W95Hil5m8_BY"
   },
   "source": [
    "**2.One hot encoding**\n",
    "\n",
    "\n"
   ]
  },
  {
   "cell_type": "code",
   "execution_count": null,
   "metadata": {
    "colab": {
     "background_save": true
    },
    "id": "8nCK7szF_tUp"
   },
   "outputs": [],
   "source": [
    "dummy1 = pd.get_dummies(train['Item_Type'],drop_first=True)\n",
    "dummy2 = pd.get_dummies(train['Outlet_Type'],drop_first=True)\n",
    "train = pd.concat([train,dummy1,dummy2],axis=1)"
   ]
  },
  {
   "cell_type": "code",
   "execution_count": null,
   "metadata": {
    "colab": {
     "background_save": true
    },
    "id": "Ji1HiRd4_zEw"
   },
   "outputs": [],
   "source": [
    "train.drop(['Outlet_Type','Item_Type'],inplace=True,axis=1)\n",
    "train.head()"
   ]
  },
  {
   "cell_type": "code",
   "execution_count": null,
   "metadata": {
    "colab": {
     "background_save": true
    },
    "id": "VoTeMXMqHtAR"
   },
   "outputs": [],
   "source": [
    "train.shape"
   ]
  },
  {
   "cell_type": "markdown",
   "metadata": {
    "id": "mkZbAXXDMpB-"
   },
   "source": [
    "# Train Test Split"
   ]
  },
  {
   "cell_type": "code",
   "execution_count": null,
   "metadata": {
    "colab": {
     "background_save": true
    },
    "id": "nGFBEb1EFO8V"
   },
   "outputs": [],
   "source": [
    "X = train.drop(['Item_Outlet_Sales'],axis=1)\n",
    "y = train['Item_Outlet_Sales']\n",
    "X_train,X_test,y_train,y_test = train_test_split(X,y, test_size=0.3,random_state=42)\n",
    "\n"
   ]
  },
  {
   "cell_type": "code",
   "execution_count": null,
   "metadata": {
    "colab": {
     "background_save": true
    },
    "id": "ELRVcVb-DFzG"
   },
   "outputs": [],
   "source": [
    "print(X.shape)\n",
    "print(y.shape)"
   ]
  },
  {
   "cell_type": "markdown",
   "metadata": {
    "id": "g3ZObSETNCoA"
   },
   "source": [
    "# Scale Down"
   ]
  },
  {
   "cell_type": "code",
   "execution_count": null,
   "metadata": {
    "id": "1TQploCBM7jl"
   },
   "outputs": [],
   "source": [
    "#sc = StandardScaler()\n",
    "#X_train_sc = sc.fit_transform(X_train)\n",
    "#X_test_sc = sc.transform(X_test)"
   ]
  },
  {
   "cell_type": "code",
   "execution_count": null,
   "metadata": {
    "id": "MVSJrVlU4XAN"
   },
   "outputs": [],
   "source": [
    "sc = MinMaxScaler()\n",
    "X_train_sc = sc.fit_transform(X_train)\n",
    "X_test_sc = sc.transform(X_test)\n",
    "df_train = pd.DataFrame(X_train_sc)\n",
    "df_test = pd.DataFrame(X_test_sc)"
   ]
  },
  {
   "cell_type": "code",
   "execution_count": null,
   "metadata": {},
   "outputs": [],
   "source": [
    "import joblib\n",
    "joblib.dump(sc,'/home/user/PROJECTS/Big_mart_Sales_Prediction/scaled.pkl')"
   ]
  },
  {
   "cell_type": "markdown",
   "metadata": {
    "id": "fZw98PFzAaxx"
   },
   "source": [
    "# Model Building"
   ]
  },
  {
   "cell_type": "markdown",
   "metadata": {
    "id": "VlLWeStOMtPu"
   },
   "source": [
    "**Linear Regression**"
   ]
  },
  {
   "cell_type": "code",
   "execution_count": null,
   "metadata": {
    "id": "DNAQii9MNacR"
   },
   "outputs": [],
   "source": [
    "lr_reg = LinearRegression(normalize=True)\n",
    "lr_reg.fit(X_train,y_train)\n",
    "y_pred = lr_reg.predict(X_test)\n",
    "\n",
    "print(\"Train accuracy :\",lr_reg.score(X_train,y_train))\n",
    "#print(\"Test accuracy :\",model.score(y_test,y_pred))\n",
    "print(\"MAE:\", metrics.mean_absolute_error(y_test, y_pred))\n",
    "print('MSE:', metrics.mean_squared_error(y_test, y_pred))\n",
    "print('RMSE:', np.sqrt(metrics.mean_squared_error(y_test, y_pred)))\n"
   ]
  },
  {
   "cell_type": "markdown",
   "metadata": {
    "id": "1OJsyPdaNYKf"
   },
   "source": [
    "**Ridge**"
   ]
  },
  {
   "cell_type": "code",
   "execution_count": null,
   "metadata": {
    "id": "UC7ZCr-YNOse"
   },
   "outputs": [],
   "source": [
    "from sklearn.linear_model import Ridge\n",
    "r = Ridge(alpha=0.05,solver='cholesky')\n",
    "r.fit(X_train,y_train)\n",
    "y_pred = r.predict(X_test)\n",
    "\n",
    "print(\"Train accuracy :\",r.score(X_train,y_train))\n",
    "#print(\"Test accuracy :\",model.score(y_test,y_pred))\n",
    "#print(\"MAE:\", metrics.mean_absolute_error(y_test, y_pred))\n",
    "print('MSE:', metrics.mean_squared_error(y_test, y_pred))\n",
    "print('RMSE:', np.sqrt(metrics.mean_squared_error(y_test, y_pred)))\n"
   ]
  },
  {
   "cell_type": "markdown",
   "metadata": {
    "id": "JeRK99oQNbuW"
   },
   "source": [
    "**Lasso**"
   ]
  },
  {
   "cell_type": "code",
   "execution_count": null,
   "metadata": {
    "id": "VQfdA5cKM8zk"
   },
   "outputs": [],
   "source": [
    "from sklearn.linear_model import Lasso\n",
    "ls = Lasso(alpha = 0.009)\n",
    "ls = ls.fit(X_train, y_train)\n",
    "y_pred = r.predict(X_test)\n",
    "\n",
    "print(\"Train accuracy :\",ls.score(X_train,y_train))\n",
    "print('MSE:', metrics.mean_squared_error(y_test, y_pred))\n",
    "print('RMSE:', np.sqrt(metrics.mean_squared_error(y_test, y_pred)))\n",
    "r2_score_LS = r2_score(y_test, y_pred)\n",
    "print('R2_Score:',r2_score_LS*100,\"%\" )"
   ]
  },
  {
   "cell_type": "markdown",
   "metadata": {
    "id": "m-JMmacDO1UT"
   },
   "source": [
    "**Decision Tree**"
   ]
  },
  {
   "cell_type": "code",
   "execution_count": null,
   "metadata": {
    "id": "eid9gETTFeH2"
   },
   "outputs": [],
   "source": [
    "dt_reg = DecisionTreeRegressor()\n",
    "dt_reg.fit(X_train,y_train)\n",
    "y_pred = dt_reg.predict(X_test)\n",
    "\n",
    "print(\"Train accuracy :\",dt_reg.score(X_train,y_train))\n",
    "print('MSE:', metrics.mean_squared_error(y_test, y_pred))\n",
    "print('RMSE:', np.sqrt(metrics.mean_squared_error(y_test, y_pred)))\n",
    "\n",
    "\n"
   ]
  },
  {
   "cell_type": "markdown",
   "metadata": {
    "id": "LFHddtOAPaox"
   },
   "source": [
    "**Random Forest**"
   ]
  },
  {
   "cell_type": "code",
   "execution_count": null,
   "metadata": {
    "id": "ud5zPOZsPZQD"
   },
   "outputs": [],
   "source": [
    "rf_reg = RandomForestRegressor()\n",
    "rf_reg.fit(X_train,y_train)\n",
    "y_pred = rf_reg.predict(X_test)\n",
    "\n",
    "print(\"Train accuracy :\",rf_reg.score(X_train,y_train))\n",
    "print('MSE:', metrics.mean_squared_error(y_test, y_pred))\n",
    "print('RMSE:', np.sqrt(metrics.mean_squared_error(y_test, y_pred)))\n"
   ]
  },
  {
   "cell_type": "markdown",
   "metadata": {
    "id": "w0YeS4ydQAXV"
   },
   "source": [
    "**Gradient Bosting**"
   ]
  },
  {
   "cell_type": "code",
   "execution_count": null,
   "metadata": {
    "id": "WRRNV9LFGWu8",
    "scrolled": false
   },
   "outputs": [],
   "source": [
    "gb_reg = GradientBoostingRegressor()\n",
    "gb_reg.fit(X_train,y_train)\n",
    "y_pred = gb_reg.predict(X_test)\n",
    "\n",
    "print(\"Train accuracy :\",gb_reg.score(X_train,y_train))\n",
    "print('MSE:', metrics.mean_squared_error(y_test, y_pred))\n",
    "print('RMSE:', np.sqrt(metrics.mean_squared_error(y_test, y_pred)))"
   ]
  },
  {
   "cell_type": "markdown",
   "metadata": {
    "id": "hiOHQRU4QMhy"
   },
   "source": [
    "Adaboost"
   ]
  },
  {
   "cell_type": "code",
   "execution_count": null,
   "metadata": {
    "id": "cdh0AL54QlSh"
   },
   "outputs": [],
   "source": [
    "adb_reg = AdaBoostRegressor()\n",
    "adb_reg.fit(X_train,y_train)\n",
    "y_pred = adb_reg.predict(X_test)\n",
    "\n",
    "print(\"Train accuracy :\",adb_reg.score(X_train,y_train))\n",
    "print('MSE:', metrics.mean_squared_error(y_test, y_pred))\n",
    "print('RMSE:', np.sqrt(metrics.mean_squared_error(y_test, y_pred)))"
   ]
  },
  {
   "cell_type": "markdown",
   "metadata": {},
   "source": [
    "From the above models GRADIENT BOOSTING REGRESSOR gives the lowest RMSE"
   ]
  },
  {
   "cell_type": "markdown",
   "metadata": {},
   "source": [
    "Making the best model - Gradient boosting"
   ]
  },
  {
   "cell_type": "code",
   "execution_count": null,
   "metadata": {},
   "outputs": [],
   "source": [
    "gb_reg = GradientBoostingRegressor()\n",
    "gb_reg.fit(X_train_sc,y_train)"
   ]
  },
  {
   "cell_type": "markdown",
   "metadata": {},
   "source": [
    "Saving model"
   ]
  },
  {
   "cell_type": "code",
   "execution_count": null,
   "metadata": {},
   "outputs": [],
   "source": [
    "\n",
    "import joblib\n",
    "joblib.dump(gb_reg,'/home/user/PROJECTS/Big_mart_Sales_Prediction/model.pkl')"
   ]
  },
  {
   "cell_type": "code",
   "execution_count": null,
   "metadata": {},
   "outputs": [],
   "source": []
  },
  {
   "cell_type": "code",
   "execution_count": null,
   "metadata": {},
   "outputs": [],
   "source": []
  },
  {
   "cell_type": "code",
   "execution_count": null,
   "metadata": {},
   "outputs": [],
   "source": []
  },
  {
   "cell_type": "code",
   "execution_count": null,
   "metadata": {},
   "outputs": [],
   "source": []
  },
  {
   "cell_type": "code",
   "execution_count": null,
   "metadata": {},
   "outputs": [],
   "source": [
    "# for reg,reg_param in zip(reg_list,clf_params):\n",
    "\n",
    "#   print(f\"The Classifier is {reg} and its hyper params are {reg_param}\") \n",
    "\n",
    "#   grid_reg = GridSearchCV(estimator=clf,param_grid=clf_param,scoring=\"accuracy\",cv=10) \n",
    "#   grid_reg.fit(X_train_sc,y_train) \n",
    "\n",
    "#   print(f\"The Train accuracy for the {reg} is {grid_clf.score(X_train_sc,y_train)}\") \n",
    "#   print(f\"The Test accuracy for the {reg} is {grid_clf.score(X_test_sc,y_test)}\") \n",
    "#   print(\"====================\\n\")\n"
   ]
  },
  {
   "cell_type": "code",
   "execution_count": null,
   "metadata": {
    "id": "6njeBthcQhOc"
   },
   "outputs": [],
   "source": [
    "#lr_reg = LinearRegression()\n",
    "#dt_reg = DecisionTreeRegressor() \n",
    "#rf_reg = RandomForestRegressor()\n",
    "#svr_reg = SVR()\n",
    "#Adb_reg = AdaBoostRegressor()\n",
    "#gb_reg = GradientBoostingRegressor()\n",
    "#votng = VotingRegressor( estimators=[('Linear_Regression',lr_reg),('Decision_Tree',dt_reg),('Random_Forest',rf_reg),\n",
    "#                                     ('SVR',svr_reg),('Gradient_Boosting',gb_reg),(Adb_reg,'Ada_boosting')] )\n",
    "#votng.fit(X_train,y_train)"
   ]
  },
  {
   "cell_type": "code",
   "execution_count": null,
   "metadata": {
    "id": "ncwBifqp_jLi"
   },
   "outputs": [],
   "source": [
    "#for reg in (lr_reg,dt_reg,rf_reg,svr_reg,votng): \n",
    "#    reg.fit(X_train,y_train) \n",
    "\n",
    "#    y_pred = reg.predict(X_test)\n",
    "#    print(reg.__class__.__name__,reg.score(X_train,y_train))\n",
    "    #print(reg.__class__.__name__, reg.score(y_test,y_pred))\n",
    "#    print('RMSE:', np.sqrt(metrics.mean_squared_error(y_test, y_pred)))\n",
    "#    print(\"=========================\")\n"
   ]
  },
  {
   "cell_type": "code",
   "execution_count": null,
   "metadata": {
    "id": "ooPtAmcZChai"
   },
   "outputs": [],
   "source": []
  },
  {
   "cell_type": "code",
   "execution_count": null,
   "metadata": {
    "id": "VLYxy7xfO9pm"
   },
   "outputs": [],
   "source": []
  },
  {
   "cell_type": "code",
   "execution_count": null,
   "metadata": {
    "id": "iyqVyUBfGjnF"
   },
   "outputs": [],
   "source": []
  }
 ],
 "metadata": {
  "accelerator": "GPU",
  "colab": {
   "name": "Big_mart_Sales_Prediction.ipynb",
   "version": ""
  },
  "gpuClass": "standard",
  "kernelspec": {
   "display_name": "Python 3 (ipykernel)",
   "language": "python",
   "name": "python3"
  },
  "language_info": {
   "codemirror_mode": {
    "name": "ipython",
    "version": 3
   },
   "file_extension": ".py",
   "mimetype": "text/x-python",
   "name": "python",
   "nbconvert_exporter": "python",
   "pygments_lexer": "ipython3",
   "version": "3.9.7"
  },
  "vscode": {
   "interpreter": {
    "hash": "1448b48b023bcc9c3d4a79e814720a10ca6d4244f75e0f7ce4af58f96ba2b7d3"
   }
  }
 },
 "nbformat": 4,
 "nbformat_minor": 1
}
