{
  "cells": [
    {
      "cell_type": "markdown",
      "metadata": {
        "id": "view-in-github",
        "colab_type": "text"
      },
      "source": [
        "<a href=\"https://colab.research.google.com/github/Sarathns05/Big_Mart_Sales_Prediction/blob/main/Big_mart_Sales_Prediction2.ipynb\" target=\"_parent\"><img src=\"https://colab.research.google.com/assets/colab-badge.svg\" alt=\"Open In Colab\"/></a>"
      ]
    },
    {
      "cell_type": "markdown",
      "metadata": {
        "id": "M7wTftbN6SUC"
      },
      "source": [
        "**Import Libraries**\n",
        "\n",
        "\n",
        "\n",
        "\n",
        "\n",
        "\n",
        "\n",
        "\n",
        "\n",
        "\n"
      ]
    },
    {
      "cell_type": "code",
      "execution_count": 2,
      "metadata": {
        "id": "KejY-yXD6HQZ"
      },
      "outputs": [],
      "source": [
        "import pandas as pd\n",
        "import numpy as np\n",
        "import matplotlib.pyplot as plt\n",
        "import seaborn as sns\n",
        "%matplotlib inline\n",
        "import warnings\n",
        "warnings.filterwarnings(\"ignore\", category=FutureWarning)\n",
        "warnings.filterwarnings(\"ignore\")\n",
        "\n",
        "from sklearn.preprocessing import *\n",
        "from sklearn import metrics\n",
        "from sklearn.metrics import accuracy_score\n",
        "from sklearn.metrics import mean_squared_error, r2_score\n",
        "from sklearn.model_selection import train_test_split\n",
        "from sklearn.model_selection import GridSearchCV, RandomizedSearchCV\n",
        "from sklearn.linear_model import LinearRegression\n",
        "from sklearn.linear_model import Ridge, Lasso\n",
        "from sklearn.tree import DecisionTreeRegressor \n",
        "from sklearn.ensemble import RandomForestRegressor, AdaBoostRegressor, GradientBoostingRegressor\n",
        "from sklearn.ensemble import VotingRegressor\n",
        "import xgboost as xgb\n",
        "from xgboost import XGBRegressor\n",
        "from sklearn.svm import SVR"
      ]
    },
    {
      "cell_type": "markdown",
      "metadata": {
        "id": "roroCvuH7MTx"
      },
      "source": [
        "**Load Dataset**\n",
        "\n"
      ]
    },
    {
      "cell_type": "code",
      "execution_count": 3,
      "metadata": {
        "colab": {
          "base_uri": "https://localhost:8080/",
          "height": 357
        },
        "id": "fJ5VmV-W8F4s",
        "outputId": "6357d121-0240-49a0-af55-362e2c41e539"
      },
      "outputs": [
        {
          "output_type": "execute_result",
          "data": {
            "text/plain": [
              "  Item_Identifier  Item_Weight Item_Fat_Content  Item_Visibility  \\\n",
              "0           FDA15         9.30          Low Fat         0.016047   \n",
              "1           DRC01         5.92          Regular         0.019278   \n",
              "2           FDN15        17.50          Low Fat         0.016760   \n",
              "3           FDX07        19.20          Regular         0.000000   \n",
              "4           NCD19         8.93          Low Fat         0.000000   \n",
              "\n",
              "               Item_Type  Item_MRP Outlet_Identifier  \\\n",
              "0                  Dairy  249.8092            OUT049   \n",
              "1            Soft Drinks   48.2692            OUT018   \n",
              "2                   Meat  141.6180            OUT049   \n",
              "3  Fruits and Vegetables  182.0950            OUT010   \n",
              "4              Household   53.8614            OUT013   \n",
              "\n",
              "   Outlet_Establishment_Year Outlet_Size Outlet_Location_Type  \\\n",
              "0                       1999      Medium               Tier 1   \n",
              "1                       2009      Medium               Tier 3   \n",
              "2                       1999      Medium               Tier 1   \n",
              "3                       1998         NaN               Tier 3   \n",
              "4                       1987        High               Tier 3   \n",
              "\n",
              "         Outlet_Type  Item_Outlet_Sales  \n",
              "0  Supermarket Type1          3735.1380  \n",
              "1  Supermarket Type2           443.4228  \n",
              "2  Supermarket Type1          2097.2700  \n",
              "3      Grocery Store           732.3800  \n",
              "4  Supermarket Type1           994.7052  "
            ],
            "text/html": [
              "\n",
              "  <div id=\"df-c106e5a9-898d-40dd-964c-183541eeca9b\">\n",
              "    <div class=\"colab-df-container\">\n",
              "      <div>\n",
              "<style scoped>\n",
              "    .dataframe tbody tr th:only-of-type {\n",
              "        vertical-align: middle;\n",
              "    }\n",
              "\n",
              "    .dataframe tbody tr th {\n",
              "        vertical-align: top;\n",
              "    }\n",
              "\n",
              "    .dataframe thead th {\n",
              "        text-align: right;\n",
              "    }\n",
              "</style>\n",
              "<table border=\"1\" class=\"dataframe\">\n",
              "  <thead>\n",
              "    <tr style=\"text-align: right;\">\n",
              "      <th></th>\n",
              "      <th>Item_Identifier</th>\n",
              "      <th>Item_Weight</th>\n",
              "      <th>Item_Fat_Content</th>\n",
              "      <th>Item_Visibility</th>\n",
              "      <th>Item_Type</th>\n",
              "      <th>Item_MRP</th>\n",
              "      <th>Outlet_Identifier</th>\n",
              "      <th>Outlet_Establishment_Year</th>\n",
              "      <th>Outlet_Size</th>\n",
              "      <th>Outlet_Location_Type</th>\n",
              "      <th>Outlet_Type</th>\n",
              "      <th>Item_Outlet_Sales</th>\n",
              "    </tr>\n",
              "  </thead>\n",
              "  <tbody>\n",
              "    <tr>\n",
              "      <th>0</th>\n",
              "      <td>FDA15</td>\n",
              "      <td>9.30</td>\n",
              "      <td>Low Fat</td>\n",
              "      <td>0.016047</td>\n",
              "      <td>Dairy</td>\n",
              "      <td>249.8092</td>\n",
              "      <td>OUT049</td>\n",
              "      <td>1999</td>\n",
              "      <td>Medium</td>\n",
              "      <td>Tier 1</td>\n",
              "      <td>Supermarket Type1</td>\n",
              "      <td>3735.1380</td>\n",
              "    </tr>\n",
              "    <tr>\n",
              "      <th>1</th>\n",
              "      <td>DRC01</td>\n",
              "      <td>5.92</td>\n",
              "      <td>Regular</td>\n",
              "      <td>0.019278</td>\n",
              "      <td>Soft Drinks</td>\n",
              "      <td>48.2692</td>\n",
              "      <td>OUT018</td>\n",
              "      <td>2009</td>\n",
              "      <td>Medium</td>\n",
              "      <td>Tier 3</td>\n",
              "      <td>Supermarket Type2</td>\n",
              "      <td>443.4228</td>\n",
              "    </tr>\n",
              "    <tr>\n",
              "      <th>2</th>\n",
              "      <td>FDN15</td>\n",
              "      <td>17.50</td>\n",
              "      <td>Low Fat</td>\n",
              "      <td>0.016760</td>\n",
              "      <td>Meat</td>\n",
              "      <td>141.6180</td>\n",
              "      <td>OUT049</td>\n",
              "      <td>1999</td>\n",
              "      <td>Medium</td>\n",
              "      <td>Tier 1</td>\n",
              "      <td>Supermarket Type1</td>\n",
              "      <td>2097.2700</td>\n",
              "    </tr>\n",
              "    <tr>\n",
              "      <th>3</th>\n",
              "      <td>FDX07</td>\n",
              "      <td>19.20</td>\n",
              "      <td>Regular</td>\n",
              "      <td>0.000000</td>\n",
              "      <td>Fruits and Vegetables</td>\n",
              "      <td>182.0950</td>\n",
              "      <td>OUT010</td>\n",
              "      <td>1998</td>\n",
              "      <td>NaN</td>\n",
              "      <td>Tier 3</td>\n",
              "      <td>Grocery Store</td>\n",
              "      <td>732.3800</td>\n",
              "    </tr>\n",
              "    <tr>\n",
              "      <th>4</th>\n",
              "      <td>NCD19</td>\n",
              "      <td>8.93</td>\n",
              "      <td>Low Fat</td>\n",
              "      <td>0.000000</td>\n",
              "      <td>Household</td>\n",
              "      <td>53.8614</td>\n",
              "      <td>OUT013</td>\n",
              "      <td>1987</td>\n",
              "      <td>High</td>\n",
              "      <td>Tier 3</td>\n",
              "      <td>Supermarket Type1</td>\n",
              "      <td>994.7052</td>\n",
              "    </tr>\n",
              "  </tbody>\n",
              "</table>\n",
              "</div>\n",
              "      <button class=\"colab-df-convert\" onclick=\"convertToInteractive('df-c106e5a9-898d-40dd-964c-183541eeca9b')\"\n",
              "              title=\"Convert this dataframe to an interactive table.\"\n",
              "              style=\"display:none;\">\n",
              "        \n",
              "  <svg xmlns=\"http://www.w3.org/2000/svg\" height=\"24px\"viewBox=\"0 0 24 24\"\n",
              "       width=\"24px\">\n",
              "    <path d=\"M0 0h24v24H0V0z\" fill=\"none\"/>\n",
              "    <path d=\"M18.56 5.44l.94 2.06.94-2.06 2.06-.94-2.06-.94-.94-2.06-.94 2.06-2.06.94zm-11 1L8.5 8.5l.94-2.06 2.06-.94-2.06-.94L8.5 2.5l-.94 2.06-2.06.94zm10 10l.94 2.06.94-2.06 2.06-.94-2.06-.94-.94-2.06-.94 2.06-2.06.94z\"/><path d=\"M17.41 7.96l-1.37-1.37c-.4-.4-.92-.59-1.43-.59-.52 0-1.04.2-1.43.59L10.3 9.45l-7.72 7.72c-.78.78-.78 2.05 0 2.83L4 21.41c.39.39.9.59 1.41.59.51 0 1.02-.2 1.41-.59l7.78-7.78 2.81-2.81c.8-.78.8-2.07 0-2.86zM5.41 20L4 18.59l7.72-7.72 1.47 1.35L5.41 20z\"/>\n",
              "  </svg>\n",
              "      </button>\n",
              "      \n",
              "  <style>\n",
              "    .colab-df-container {\n",
              "      display:flex;\n",
              "      flex-wrap:wrap;\n",
              "      gap: 12px;\n",
              "    }\n",
              "\n",
              "    .colab-df-convert {\n",
              "      background-color: #E8F0FE;\n",
              "      border: none;\n",
              "      border-radius: 50%;\n",
              "      cursor: pointer;\n",
              "      display: none;\n",
              "      fill: #1967D2;\n",
              "      height: 32px;\n",
              "      padding: 0 0 0 0;\n",
              "      width: 32px;\n",
              "    }\n",
              "\n",
              "    .colab-df-convert:hover {\n",
              "      background-color: #E2EBFA;\n",
              "      box-shadow: 0px 1px 2px rgba(60, 64, 67, 0.3), 0px 1px 3px 1px rgba(60, 64, 67, 0.15);\n",
              "      fill: #174EA6;\n",
              "    }\n",
              "\n",
              "    [theme=dark] .colab-df-convert {\n",
              "      background-color: #3B4455;\n",
              "      fill: #D2E3FC;\n",
              "    }\n",
              "\n",
              "    [theme=dark] .colab-df-convert:hover {\n",
              "      background-color: #434B5C;\n",
              "      box-shadow: 0px 1px 3px 1px rgba(0, 0, 0, 0.15);\n",
              "      filter: drop-shadow(0px 1px 2px rgba(0, 0, 0, 0.3));\n",
              "      fill: #FFFFFF;\n",
              "    }\n",
              "  </style>\n",
              "\n",
              "      <script>\n",
              "        const buttonEl =\n",
              "          document.querySelector('#df-c106e5a9-898d-40dd-964c-183541eeca9b button.colab-df-convert');\n",
              "        buttonEl.style.display =\n",
              "          google.colab.kernel.accessAllowed ? 'block' : 'none';\n",
              "\n",
              "        async function convertToInteractive(key) {\n",
              "          const element = document.querySelector('#df-c106e5a9-898d-40dd-964c-183541eeca9b');\n",
              "          const dataTable =\n",
              "            await google.colab.kernel.invokeFunction('convertToInteractive',\n",
              "                                                     [key], {});\n",
              "          if (!dataTable) return;\n",
              "\n",
              "          const docLinkHtml = 'Like what you see? Visit the ' +\n",
              "            '<a target=\"_blank\" href=https://colab.research.google.com/notebooks/data_table.ipynb>data table notebook</a>'\n",
              "            + ' to learn more about interactive tables.';\n",
              "          element.innerHTML = '';\n",
              "          dataTable['output_type'] = 'display_data';\n",
              "          await google.colab.output.renderOutput(dataTable, element);\n",
              "          const docLink = document.createElement('div');\n",
              "          docLink.innerHTML = docLinkHtml;\n",
              "          element.appendChild(docLink);\n",
              "        }\n",
              "      </script>\n",
              "    </div>\n",
              "  </div>\n",
              "  "
            ]
          },
          "metadata": {},
          "execution_count": 3
        }
      ],
      "source": [
        "train = pd.read_csv(\"/content/drive/MyDrive/Luminar_Projects/Big_mart_Sales_Prediction/train.csv\")\n",
        "train.head()"
      ]
    },
    {
      "cell_type": "markdown",
      "metadata": {
        "id": "6YlMnSJLHZ4_"
      },
      "source": [
        "# **Basic EDA**"
      ]
    },
    {
      "cell_type": "code",
      "execution_count": 4,
      "metadata": {
        "colab": {
          "base_uri": "https://localhost:8080/"
        },
        "id": "Ya_iSTmbFO7_",
        "outputId": "bd9ff965-5bd5-4c76-9da5-1f0e9dadb25f"
      },
      "outputs": [
        {
          "output_type": "stream",
          "name": "stdout",
          "text": [
            "Total Rows    : 8523\n",
            "Total Columns : 12\n",
            "-----------------------------------------------------------\n",
            "<class 'pandas.core.frame.DataFrame'>\n",
            "RangeIndex: 8523 entries, 0 to 8522\n",
            "Data columns (total 12 columns):\n",
            " #   Column                     Non-Null Count  Dtype  \n",
            "---  ------                     --------------  -----  \n",
            " 0   Item_Identifier            8523 non-null   object \n",
            " 1   Item_Weight                7060 non-null   float64\n",
            " 2   Item_Fat_Content           8523 non-null   object \n",
            " 3   Item_Visibility            8523 non-null   float64\n",
            " 4   Item_Type                  8523 non-null   object \n",
            " 5   Item_MRP                   8523 non-null   float64\n",
            " 6   Outlet_Identifier          8523 non-null   object \n",
            " 7   Outlet_Establishment_Year  8523 non-null   int64  \n",
            " 8   Outlet_Size                6113 non-null   object \n",
            " 9   Outlet_Location_Type       8523 non-null   object \n",
            " 10  Outlet_Type                8523 non-null   object \n",
            " 11  Item_Outlet_Sales          8523 non-null   float64\n",
            "dtypes: float64(4), int64(1), object(7)\n",
            "memory usage: 799.2+ KB\n",
            "None\n"
          ]
        }
      ],
      "source": [
        "print(f\"Total Rows    : {train.shape[0]}\")\n",
        "print(f\"Total Columns : {train.shape[1]}\")\n",
        "print(\"-----------------------------------------------------------\")\n",
        "print(train.info())"
      ]
    },
    {
      "cell_type": "code",
      "execution_count": 5,
      "metadata": {
        "colab": {
          "base_uri": "https://localhost:8080/"
        },
        "id": "B-O2Pk5WFO8A",
        "outputId": "e7c14d0b-029b-4937-d693-ad223c3c41c4"
      },
      "outputs": [
        {
          "output_type": "execute_result",
          "data": {
            "text/plain": [
              "Item_Identifier              1559\n",
              "Item_Weight                   415\n",
              "Item_Fat_Content                5\n",
              "Item_Visibility              7880\n",
              "Item_Type                      16\n",
              "Item_MRP                     5938\n",
              "Outlet_Identifier              10\n",
              "Outlet_Establishment_Year       9\n",
              "Outlet_Size                     3\n",
              "Outlet_Location_Type            3\n",
              "Outlet_Type                     4\n",
              "Item_Outlet_Sales            3493\n",
              "dtype: int64"
            ]
          },
          "metadata": {},
          "execution_count": 5
        }
      ],
      "source": [
        "# Checking unique values\n",
        "train.nunique()"
      ]
    },
    {
      "cell_type": "code",
      "execution_count": 6,
      "metadata": {
        "colab": {
          "base_uri": "https://localhost:8080/"
        },
        "id": "-Q8eGEc6FO8A",
        "outputId": "156489b0-d924-45bb-bc31-33afa69462de"
      },
      "outputs": [
        {
          "output_type": "execute_result",
          "data": {
            "text/plain": [
              "Item_Identifier                 0\n",
              "Item_Weight                  1463\n",
              "Item_Fat_Content                0\n",
              "Item_Visibility                 0\n",
              "Item_Type                       0\n",
              "Item_MRP                        0\n",
              "Outlet_Identifier               0\n",
              "Outlet_Establishment_Year       0\n",
              "Outlet_Size                  2410\n",
              "Outlet_Location_Type            0\n",
              "Outlet_Type                     0\n",
              "Item_Outlet_Sales               0\n",
              "dtype: int64"
            ]
          },
          "metadata": {},
          "execution_count": 6
        }
      ],
      "source": [
        "# Checking null values\n",
        "train.isnull().sum()"
      ]
    },
    {
      "cell_type": "code",
      "execution_count": 7,
      "metadata": {
        "colab": {
          "base_uri": "https://localhost:8080/",
          "height": 206
        },
        "id": "B4VJ1_UoGQ-X",
        "outputId": "dc6975c9-885b-4dc0-a553-9d4929e2fc3a"
      },
      "outputs": [
        {
          "output_type": "execute_result",
          "data": {
            "text/plain": [
              "                            count         mean          std       min  \\\n",
              "Item_Weight                7060.0    12.857645     4.643456     4.555   \n",
              "Item_Visibility            8523.0     0.066132     0.051598     0.000   \n",
              "Item_MRP                   8523.0   140.992782    62.275067    31.290   \n",
              "Outlet_Establishment_Year  8523.0  1997.831867     8.371760  1985.000   \n",
              "Item_Outlet_Sales          8523.0  2181.288914  1706.499616    33.290   \n",
              "\n",
              "                                   25%          50%          75%           max  \n",
              "Item_Weight                   8.773750    12.600000    16.850000     21.350000  \n",
              "Item_Visibility               0.026989     0.053931     0.094585      0.328391  \n",
              "Item_MRP                     93.826500   143.012800   185.643700    266.888400  \n",
              "Outlet_Establishment_Year  1987.000000  1999.000000  2004.000000   2009.000000  \n",
              "Item_Outlet_Sales           834.247400  1794.331000  3101.296400  13086.964800  "
            ],
            "text/html": [
              "\n",
              "  <div id=\"df-4380a82d-c22d-4880-ab22-549e6fa20e52\">\n",
              "    <div class=\"colab-df-container\">\n",
              "      <div>\n",
              "<style scoped>\n",
              "    .dataframe tbody tr th:only-of-type {\n",
              "        vertical-align: middle;\n",
              "    }\n",
              "\n",
              "    .dataframe tbody tr th {\n",
              "        vertical-align: top;\n",
              "    }\n",
              "\n",
              "    .dataframe thead th {\n",
              "        text-align: right;\n",
              "    }\n",
              "</style>\n",
              "<table border=\"1\" class=\"dataframe\">\n",
              "  <thead>\n",
              "    <tr style=\"text-align: right;\">\n",
              "      <th></th>\n",
              "      <th>count</th>\n",
              "      <th>mean</th>\n",
              "      <th>std</th>\n",
              "      <th>min</th>\n",
              "      <th>25%</th>\n",
              "      <th>50%</th>\n",
              "      <th>75%</th>\n",
              "      <th>max</th>\n",
              "    </tr>\n",
              "  </thead>\n",
              "  <tbody>\n",
              "    <tr>\n",
              "      <th>Item_Weight</th>\n",
              "      <td>7060.0</td>\n",
              "      <td>12.857645</td>\n",
              "      <td>4.643456</td>\n",
              "      <td>4.555</td>\n",
              "      <td>8.773750</td>\n",
              "      <td>12.600000</td>\n",
              "      <td>16.850000</td>\n",
              "      <td>21.350000</td>\n",
              "    </tr>\n",
              "    <tr>\n",
              "      <th>Item_Visibility</th>\n",
              "      <td>8523.0</td>\n",
              "      <td>0.066132</td>\n",
              "      <td>0.051598</td>\n",
              "      <td>0.000</td>\n",
              "      <td>0.026989</td>\n",
              "      <td>0.053931</td>\n",
              "      <td>0.094585</td>\n",
              "      <td>0.328391</td>\n",
              "    </tr>\n",
              "    <tr>\n",
              "      <th>Item_MRP</th>\n",
              "      <td>8523.0</td>\n",
              "      <td>140.992782</td>\n",
              "      <td>62.275067</td>\n",
              "      <td>31.290</td>\n",
              "      <td>93.826500</td>\n",
              "      <td>143.012800</td>\n",
              "      <td>185.643700</td>\n",
              "      <td>266.888400</td>\n",
              "    </tr>\n",
              "    <tr>\n",
              "      <th>Outlet_Establishment_Year</th>\n",
              "      <td>8523.0</td>\n",
              "      <td>1997.831867</td>\n",
              "      <td>8.371760</td>\n",
              "      <td>1985.000</td>\n",
              "      <td>1987.000000</td>\n",
              "      <td>1999.000000</td>\n",
              "      <td>2004.000000</td>\n",
              "      <td>2009.000000</td>\n",
              "    </tr>\n",
              "    <tr>\n",
              "      <th>Item_Outlet_Sales</th>\n",
              "      <td>8523.0</td>\n",
              "      <td>2181.288914</td>\n",
              "      <td>1706.499616</td>\n",
              "      <td>33.290</td>\n",
              "      <td>834.247400</td>\n",
              "      <td>1794.331000</td>\n",
              "      <td>3101.296400</td>\n",
              "      <td>13086.964800</td>\n",
              "    </tr>\n",
              "  </tbody>\n",
              "</table>\n",
              "</div>\n",
              "      <button class=\"colab-df-convert\" onclick=\"convertToInteractive('df-4380a82d-c22d-4880-ab22-549e6fa20e52')\"\n",
              "              title=\"Convert this dataframe to an interactive table.\"\n",
              "              style=\"display:none;\">\n",
              "        \n",
              "  <svg xmlns=\"http://www.w3.org/2000/svg\" height=\"24px\"viewBox=\"0 0 24 24\"\n",
              "       width=\"24px\">\n",
              "    <path d=\"M0 0h24v24H0V0z\" fill=\"none\"/>\n",
              "    <path d=\"M18.56 5.44l.94 2.06.94-2.06 2.06-.94-2.06-.94-.94-2.06-.94 2.06-2.06.94zm-11 1L8.5 8.5l.94-2.06 2.06-.94-2.06-.94L8.5 2.5l-.94 2.06-2.06.94zm10 10l.94 2.06.94-2.06 2.06-.94-2.06-.94-.94-2.06-.94 2.06-2.06.94z\"/><path d=\"M17.41 7.96l-1.37-1.37c-.4-.4-.92-.59-1.43-.59-.52 0-1.04.2-1.43.59L10.3 9.45l-7.72 7.72c-.78.78-.78 2.05 0 2.83L4 21.41c.39.39.9.59 1.41.59.51 0 1.02-.2 1.41-.59l7.78-7.78 2.81-2.81c.8-.78.8-2.07 0-2.86zM5.41 20L4 18.59l7.72-7.72 1.47 1.35L5.41 20z\"/>\n",
              "  </svg>\n",
              "      </button>\n",
              "      \n",
              "  <style>\n",
              "    .colab-df-container {\n",
              "      display:flex;\n",
              "      flex-wrap:wrap;\n",
              "      gap: 12px;\n",
              "    }\n",
              "\n",
              "    .colab-df-convert {\n",
              "      background-color: #E8F0FE;\n",
              "      border: none;\n",
              "      border-radius: 50%;\n",
              "      cursor: pointer;\n",
              "      display: none;\n",
              "      fill: #1967D2;\n",
              "      height: 32px;\n",
              "      padding: 0 0 0 0;\n",
              "      width: 32px;\n",
              "    }\n",
              "\n",
              "    .colab-df-convert:hover {\n",
              "      background-color: #E2EBFA;\n",
              "      box-shadow: 0px 1px 2px rgba(60, 64, 67, 0.3), 0px 1px 3px 1px rgba(60, 64, 67, 0.15);\n",
              "      fill: #174EA6;\n",
              "    }\n",
              "\n",
              "    [theme=dark] .colab-df-convert {\n",
              "      background-color: #3B4455;\n",
              "      fill: #D2E3FC;\n",
              "    }\n",
              "\n",
              "    [theme=dark] .colab-df-convert:hover {\n",
              "      background-color: #434B5C;\n",
              "      box-shadow: 0px 1px 3px 1px rgba(0, 0, 0, 0.15);\n",
              "      filter: drop-shadow(0px 1px 2px rgba(0, 0, 0, 0.3));\n",
              "      fill: #FFFFFF;\n",
              "    }\n",
              "  </style>\n",
              "\n",
              "      <script>\n",
              "        const buttonEl =\n",
              "          document.querySelector('#df-4380a82d-c22d-4880-ab22-549e6fa20e52 button.colab-df-convert');\n",
              "        buttonEl.style.display =\n",
              "          google.colab.kernel.accessAllowed ? 'block' : 'none';\n",
              "\n",
              "        async function convertToInteractive(key) {\n",
              "          const element = document.querySelector('#df-4380a82d-c22d-4880-ab22-549e6fa20e52');\n",
              "          const dataTable =\n",
              "            await google.colab.kernel.invokeFunction('convertToInteractive',\n",
              "                                                     [key], {});\n",
              "          if (!dataTable) return;\n",
              "\n",
              "          const docLinkHtml = 'Like what you see? Visit the ' +\n",
              "            '<a target=\"_blank\" href=https://colab.research.google.com/notebooks/data_table.ipynb>data table notebook</a>'\n",
              "            + ' to learn more about interactive tables.';\n",
              "          element.innerHTML = '';\n",
              "          dataTable['output_type'] = 'display_data';\n",
              "          await google.colab.output.renderOutput(dataTable, element);\n",
              "          const docLink = document.createElement('div');\n",
              "          docLink.innerHTML = docLinkHtml;\n",
              "          element.appendChild(docLink);\n",
              "        }\n",
              "      </script>\n",
              "    </div>\n",
              "  </div>\n",
              "  "
            ]
          },
          "metadata": {},
          "execution_count": 7
        }
      ],
      "source": [
        "# Describing data\n",
        "train.describe().T\n"
      ]
    },
    {
      "cell_type": "code",
      "execution_count": 8,
      "metadata": {
        "colab": {
          "base_uri": "https://localhost:8080/"
        },
        "id": "sy40wr5YHqYe",
        "outputId": "b00cc197-7bbe-452a-d6f9-6a577f2876eb"
      },
      "outputs": [
        {
          "output_type": "execute_result",
          "data": {
            "text/plain": [
              "Item_Weight                  0.014123\n",
              "Item_Visibility             -0.128625\n",
              "Item_MRP                     0.567574\n",
              "Outlet_Establishment_Year   -0.049135\n",
              "Item_Outlet_Sales            1.000000\n",
              "Name: Item_Outlet_Sales, dtype: float64"
            ]
          },
          "metadata": {},
          "execution_count": 8
        }
      ],
      "source": [
        "# Correlation on Dataset based on Target variable\n",
        "train.corr()['Item_Outlet_Sales']\n"
      ]
    },
    {
      "cell_type": "code",
      "execution_count": 9,
      "metadata": {
        "colab": {
          "base_uri": "https://localhost:8080/",
          "height": 554
        },
        "id": "bcNV8ZGSH3Dv",
        "outputId": "0f95bb09-389a-40ec-ae56-5febedfac995"
      },
      "outputs": [
        {
          "output_type": "display_data",
          "data": {
            "text/plain": [
              "<Figure size 1008x648 with 2 Axes>"
            ],
            "image/png": "[encoded data removed]"
          },
          "metadata": {
            "needs_background": "light"
          }
        }
      ],
      "source": [
        "# Correlation using Heat Map in Input Dataset\n",
        "\n",
        "plt.figure(figsize=(14,9))\n",
        "sns.heatmap(train.corr(),annot=True,cmap=\"YlGnBu\")\n",
        "plt.title(\"Correlation plot - Heat Map\")\n",
        "plt.show()\n"
      ]
    },
    {
      "cell_type": "code",
      "execution_count": 10,
      "metadata": {
        "colab": {
          "base_uri": "https://localhost:8080/",
          "height": 743
        },
        "id": "pccfCvLDJRBs",
        "outputId": "1ca9ccfa-6cf0-4079-a547-048348725635"
      },
      "outputs": [
        {
          "output_type": "execute_result",
          "data": {
            "text/plain": [
              "<seaborn.axisgrid.PairGrid at 0x7f527386aa50>"
            ]
          },
          "metadata": {},
          "execution_count": 10
        },
        {
          "output_type": "display_data",
          "data": {
            "text/plain": [
              "<Figure size 818x720 with 20 Axes>"
            ],
            "image/png": "[encoded data removed]"
          },
          "metadata": {
            "needs_background": "light"
          }
        }
      ],
      "source": [
        "# Pairplot using sns\n",
        "sns.pairplot(train,hue=\"Item_Outlet_Sales\")\n"
      ]
    },
    {
      "cell_type": "markdown",
      "metadata": {
        "id": "LA70lGO_ISdt"
      },
      "source": [
        "# Missing Value Treatment\n",
        "\n"
      ]
    },
    {
      "cell_type": "code",
      "execution_count": 11,
      "metadata": {
        "colab": {
          "base_uri": "https://localhost:8080/"
        },
        "id": "jMiLoQcyIEve",
        "outputId": "44c38d5d-1c52-4f08-dc0b-698b800fdc29"
      },
      "outputs": [
        {
          "output_type": "execute_result",
          "data": {
            "text/plain": [
              "Item_Identifier                 0\n",
              "Item_Weight                  1463\n",
              "Item_Fat_Content                0\n",
              "Item_Visibility                 0\n",
              "Item_Type                       0\n",
              "Item_MRP                        0\n",
              "Outlet_Identifier               0\n",
              "Outlet_Establishment_Year       0\n",
              "Outlet_Size                  2410\n",
              "Outlet_Location_Type            0\n",
              "Outlet_Type                     0\n",
              "Item_Outlet_Sales               0\n",
              "dtype: int64"
            ]
          },
          "metadata": {},
          "execution_count": 11
        }
      ],
      "source": [
        "# Checking null values\n",
        "train.isnull().sum()"
      ]
    },
    {
      "cell_type": "code",
      "execution_count": 12,
      "metadata": {
        "colab": {
          "base_uri": "https://localhost:8080/"
        },
        "id": "1k_bekh7FO8C",
        "outputId": "af50e80e-29f3-458a-ffe2-703450c62ae0"
      },
      "outputs": [
        {
          "output_type": "execute_result",
          "data": {
            "text/plain": [
              "Item_Identifier              0\n",
              "Item_Weight                  0\n",
              "Item_Fat_Content             0\n",
              "Item_Visibility              0\n",
              "Item_Type                    0\n",
              "Item_MRP                     0\n",
              "Outlet_Identifier            0\n",
              "Outlet_Establishment_Year    0\n",
              "Outlet_Size                  0\n",
              "Outlet_Location_Type         0\n",
              "Outlet_Type                  0\n",
              "Item_Outlet_Sales            0\n",
              "dtype: int64"
            ]
          },
          "metadata": {},
          "execution_count": 12
        }
      ],
      "source": [
        "# Impute Missing Values \n",
        "\n",
        "train['Item_Weight'].fillna(train['Item_Weight'].mean(), inplace = True)\n",
        "train['Outlet_Size'].fillna(train['Outlet_Size'].mode()[0],inplace=True)\n",
        "\n",
        "train.isnull().sum()\n"
      ]
    },
    {
      "cell_type": "code",
      "execution_count": 13,
      "metadata": {
        "id": "fldEU4MCJPCL"
      },
      "outputs": [],
      "source": [
        "train['Outlet_Year'] = 2022 - train['Outlet_Establishment_Year']"
      ]
    },
    {
      "cell_type": "code",
      "execution_count": 14,
      "metadata": {
        "id": "DjMXVqPBFO8E"
      },
      "outputs": [],
      "source": [
        "# Dropping unwanted features\n",
        "train.drop([\"Outlet_Establishment_Year\",\"Item_Identifier\",\"Outlet_Identifier\"],inplace = True,axis =1)"
      ]
    },
    {
      "cell_type": "markdown",
      "metadata": {
        "id": "KNOAJrwdIZOZ"
      },
      "source": [
        "# Outlier Treatment"
      ]
    },
    {
      "cell_type": "code",
      "execution_count": 15,
      "metadata": {
        "colab": {
          "base_uri": "https://localhost:8080/",
          "height": 401
        },
        "id": "fcXl81EZI7dR",
        "outputId": "78e20364-2927-4445-80dc-f4af980d2d22"
      },
      "outputs": [
        {
          "output_type": "display_data",
          "data": {
            "text/plain": [
              "<Figure size 720x720 with 9 Axes>"
            ],
            "image/png": "[encoded data removed]"
          },
          "metadata": {
            "needs_background": "light"
          }
        }
      ],
      "source": [
        "# Outlier detection using Box plot\n",
        "\n",
        "train.plot(kind=\"box\", subplots=True, layout=(3,3), figsize=(10,10))\n",
        "plt.show()\n",
        "\n"
      ]
    },
    {
      "cell_type": "code",
      "execution_count": 16,
      "metadata": {
        "id": "R9dZZ-n-FO8I"
      },
      "outputs": [],
      "source": [
        "# Handling Outliers with Percentile\n",
        "\n",
        "cols = ['Item_Visibility','Item_Visibility']\n",
        "\n",
        "for column in cols:\n",
        "  uplimit = train[column].quantile(0.95)\n",
        "  lowlimit = train[column].quantile(0.05)\n",
        "  train.loc[(train[column] > uplimit),column] = uplimit\n",
        "  train.loc[(train[column] < lowlimit),column] = lowlimit\n",
        "\n"
      ]
    },
    {
      "cell_type": "code",
      "execution_count": 17,
      "metadata": {
        "id": "SIAIr6gPFO8J"
      },
      "outputs": [],
      "source": [
        "#cols = ['Item_Visibility','Item_Visibility']\n",
        "\n",
        "#for column in cols:\n",
        "#  upper_lim=train[column].mean()+train[column].std() *3\n",
        "#  lower_lim=train[column].mean()-train[column].std() *3\n",
        "\n",
        "#  train.loc[(train[column] > upper_lim),column] = upper_lim\n",
        "#  train.loc[(train[column] < lower_lim),column] = lower_lim\n"
      ]
    },
    {
      "cell_type": "markdown",
      "metadata": {
        "id": "PmNW9Unl9_Vk"
      },
      "source": [
        "# Exploring Categorical Data\n",
        "\n"
      ]
    },
    {
      "cell_type": "code",
      "execution_count": 18,
      "metadata": {
        "colab": {
          "base_uri": "https://localhost:8080/",
          "height": 206
        },
        "id": "HNRtcPMdFO8M",
        "outputId": "d1cd3c66-3f83-463a-c86c-75aa41979fcc"
      },
      "outputs": [
        {
          "output_type": "execute_result",
          "data": {
            "text/plain": [
              "  Item_Fat_Content              Item_Type Outlet_Size Outlet_Location_Type  \\\n",
              "0          Low Fat                  Dairy      Medium               Tier 1   \n",
              "1          Regular            Soft Drinks      Medium               Tier 3   \n",
              "2          Low Fat                   Meat      Medium               Tier 1   \n",
              "3          Regular  Fruits and Vegetables      Medium               Tier 3   \n",
              "4          Low Fat              Household        High               Tier 3   \n",
              "\n",
              "         Outlet_Type  \n",
              "0  Supermarket Type1  \n",
              "1  Supermarket Type2  \n",
              "2  Supermarket Type1  \n",
              "3      Grocery Store  \n",
              "4  Supermarket Type1  "
            ],
            "text/html": [
              "\n",
              "  <div id=\"df-3f38cebc-1962-421d-a315-2d484ebcb57a\">\n",
              "    <div class=\"colab-df-container\">\n",
              "      <div>\n",
              "<style scoped>\n",
              "    .dataframe tbody tr th:only-of-type {\n",
              "        vertical-align: middle;\n",
              "    }\n",
              "\n",
              "    .dataframe tbody tr th {\n",
              "        vertical-align: top;\n",
              "    }\n",
              "\n",
              "    .dataframe thead th {\n",
              "        text-align: right;\n",
              "    }\n",
              "</style>\n",
              "<table border=\"1\" class=\"dataframe\">\n",
              "  <thead>\n",
              "    <tr style=\"text-align: right;\">\n",
              "      <th></th>\n",
              "      <th>Item_Fat_Content</th>\n",
              "      <th>Item_Type</th>\n",
              "      <th>Outlet_Size</th>\n",
              "      <th>Outlet_Location_Type</th>\n",
              "      <th>Outlet_Type</th>\n",
              "    </tr>\n",
              "  </thead>\n",
              "  <tbody>\n",
              "    <tr>\n",
              "      <th>0</th>\n",
              "      <td>Low Fat</td>\n",
              "      <td>Dairy</td>\n",
              "      <td>Medium</td>\n",
              "      <td>Tier 1</td>\n",
              "      <td>Supermarket Type1</td>\n",
              "    </tr>\n",
              "    <tr>\n",
              "      <th>1</th>\n",
              "      <td>Regular</td>\n",
              "      <td>Soft Drinks</td>\n",
              "      <td>Medium</td>\n",
              "      <td>Tier 3</td>\n",
              "      <td>Supermarket Type2</td>\n",
              "    </tr>\n",
              "    <tr>\n",
              "      <th>2</th>\n",
              "      <td>Low Fat</td>\n",
              "      <td>Meat</td>\n",
              "      <td>Medium</td>\n",
              "      <td>Tier 1</td>\n",
              "      <td>Supermarket Type1</td>\n",
              "    </tr>\n",
              "    <tr>\n",
              "      <th>3</th>\n",
              "      <td>Regular</td>\n",
              "      <td>Fruits and Vegetables</td>\n",
              "      <td>Medium</td>\n",
              "      <td>Tier 3</td>\n",
              "      <td>Grocery Store</td>\n",
              "    </tr>\n",
              "    <tr>\n",
              "      <th>4</th>\n",
              "      <td>Low Fat</td>\n",
              "      <td>Household</td>\n",
              "      <td>High</td>\n",
              "      <td>Tier 3</td>\n",
              "      <td>Supermarket Type1</td>\n",
              "    </tr>\n",
              "  </tbody>\n",
              "</table>\n",
              "</div>\n",
              "      <button class=\"colab-df-convert\" onclick=\"convertToInteractive('df-3f38cebc-1962-421d-a315-2d484ebcb57a')\"\n",
              "              title=\"Convert this dataframe to an interactive table.\"\n",
              "              style=\"display:none;\">\n",
              "        \n",
              "  <svg xmlns=\"http://www.w3.org/2000/svg\" height=\"24px\"viewBox=\"0 0 24 24\"\n",
              "       width=\"24px\">\n",
              "    <path d=\"M0 0h24v24H0V0z\" fill=\"none\"/>\n",
              "    <path d=\"M18.56 5.44l.94 2.06.94-2.06 2.06-.94-2.06-.94-.94-2.06-.94 2.06-2.06.94zm-11 1L8.5 8.5l.94-2.06 2.06-.94-2.06-.94L8.5 2.5l-.94 2.06-2.06.94zm10 10l.94 2.06.94-2.06 2.06-.94-2.06-.94-.94-2.06-.94 2.06-2.06.94z\"/><path d=\"M17.41 7.96l-1.37-1.37c-.4-.4-.92-.59-1.43-.59-.52 0-1.04.2-1.43.59L10.3 9.45l-7.72 7.72c-.78.78-.78 2.05 0 2.83L4 21.41c.39.39.9.59 1.41.59.51 0 1.02-.2 1.41-.59l7.78-7.78 2.81-2.81c.8-.78.8-2.07 0-2.86zM5.41 20L4 18.59l7.72-7.72 1.47 1.35L5.41 20z\"/>\n",
              "  </svg>\n",
              "      </button>\n",
              "      \n",
              "  <style>\n",
              "    .colab-df-container {\n",
              "      display:flex;\n",
              "      flex-wrap:wrap;\n",
              "      gap: 12px;\n",
              "    }\n",
              "\n",
              "    .colab-df-convert {\n",
              "      background-color: #E8F0FE;\n",
              "      border: none;\n",
              "      border-radius: 50%;\n",
              "      cursor: pointer;\n",
              "      display: none;\n",
              "      fill: #1967D2;\n",
              "      height: 32px;\n",
              "      padding: 0 0 0 0;\n",
              "      width: 32px;\n",
              "    }\n",
              "\n",
              "    .colab-df-convert:hover {\n",
              "      background-color: #E2EBFA;\n",
              "      box-shadow: 0px 1px 2px rgba(60, 64, 67, 0.3), 0px 1px 3px 1px rgba(60, 64, 67, 0.15);\n",
              "      fill: #174EA6;\n",
              "    }\n",
              "\n",
              "    [theme=dark] .colab-df-convert {\n",
              "      background-color: #3B4455;\n",
              "      fill: #D2E3FC;\n",
              "    }\n",
              "\n",
              "    [theme=dark] .colab-df-convert:hover {\n",
              "      background-color: #434B5C;\n",
              "      box-shadow: 0px 1px 3px 1px rgba(0, 0, 0, 0.15);\n",
              "      filter: drop-shadow(0px 1px 2px rgba(0, 0, 0, 0.3));\n",
              "      fill: #FFFFFF;\n",
              "    }\n",
              "  </style>\n",
              "\n",
              "      <script>\n",
              "        const buttonEl =\n",
              "          document.querySelector('#df-3f38cebc-1962-421d-a315-2d484ebcb57a button.colab-df-convert');\n",
              "        buttonEl.style.display =\n",
              "          google.colab.kernel.accessAllowed ? 'block' : 'none';\n",
              "\n",
              "        async function convertToInteractive(key) {\n",
              "          const element = document.querySelector('#df-3f38cebc-1962-421d-a315-2d484ebcb57a');\n",
              "          const dataTable =\n",
              "            await google.colab.kernel.invokeFunction('convertToInteractive',\n",
              "                                                     [key], {});\n",
              "          if (!dataTable) return;\n",
              "\n",
              "          const docLinkHtml = 'Like what you see? Visit the ' +\n",
              "            '<a target=\"_blank\" href=https://colab.research.google.com/notebooks/data_table.ipynb>data table notebook</a>'\n",
              "            + ' to learn more about interactive tables.';\n",
              "          element.innerHTML = '';\n",
              "          dataTable['output_type'] = 'display_data';\n",
              "          await google.colab.output.renderOutput(dataTable, element);\n",
              "          const docLink = document.createElement('div');\n",
              "          docLink.innerHTML = docLinkHtml;\n",
              "          element.appendChild(docLink);\n",
              "        }\n",
              "      </script>\n",
              "    </div>\n",
              "  </div>\n",
              "  "
            ]
          },
          "metadata": {},
          "execution_count": 18
        }
      ],
      "source": [
        "objectCols = train.select_dtypes(include=np.object).columns\n",
        "train[objectCols].head()"
      ]
    },
    {
      "cell_type": "code",
      "execution_count": 19,
      "metadata": {
        "colab": {
          "base_uri": "https://localhost:8080/"
        },
        "id": "Fr6kYC54FO8M",
        "outputId": "a3eb44a1-2832-47a8-d9fc-d1a67d65bd50"
      },
      "outputs": [
        {
          "output_type": "stream",
          "name": "stdout",
          "text": [
            "Outlet Size          : ['Medium' 'High' 'Small']\n",
            "Item Fat Content     : ['Low Fat' 'Regular' 'low fat' 'LF' 'reg']\n",
            "Outlet LOcation Type : ['Tier 1' 'Tier 3' 'Tier 2']\n",
            "Item_Type            : ['Dairy' 'Soft Drinks' 'Meat' 'Fruits and Vegetables' 'Household'\n",
            " 'Baking Goods' 'Snack Foods' 'Frozen Foods' 'Breakfast'\n",
            " 'Health and Hygiene' 'Hard Drinks' 'Canned' 'Breads' 'Starchy Foods'\n",
            " 'Others' 'Seafood']\n",
            "Outlet_Type          : ['Supermarket Type1' 'Supermarket Type2' 'Grocery Store'\n",
            " 'Supermarket Type3']\n"
          ]
        },
        {
          "output_type": "execute_result",
          "data": {
            "text/plain": [
              "Index(['Item_Fat_Content', 'Item_Type', 'Outlet_Size', 'Outlet_Location_Type',\n",
              "       'Outlet_Type'],\n",
              "      dtype='object')"
            ]
          },
          "metadata": {},
          "execution_count": 19
        }
      ],
      "source": [
        "# Unique values in categorical features\n",
        "print(f\"Outlet Size          : {train['Outlet_Size'].unique()}\")\n",
        "print(f\"Item Fat Content     : {train['Item_Fat_Content'].unique()}\")\n",
        "print(f\"Outlet LOcation Type : {train['Outlet_Location_Type'].unique()}\")\n",
        "print(f\"Item_Type            : {train['Item_Type'].unique()}\")\n",
        "print(f\"Outlet_Type          : {train['Outlet_Type'].unique()}\")\n",
        "\n",
        "objectCols.unique()\n"
      ]
    },
    {
      "cell_type": "markdown",
      "metadata": {
        "id": "qIyws3lYDBM-"
      },
      "source": [
        "# Convert categorical columns into numerical values"
      ]
    },
    {
      "cell_type": "code",
      "execution_count": 20,
      "metadata": {
        "id": "NEyv7POUFO8N"
      },
      "outputs": [],
      "source": [
        "# Mapping \n",
        "\n",
        "train['Outlet_Size'] = train['Outlet_Size'].map({\"Small\":1,\"Medium\":2,\"High\":3})\n",
        "train['Item_Fat_Content'] = train['Item_Fat_Content'].map({'LF':'Low Fat','reg':'Regular','low fat':'Low Fat'})\n",
        "train['Outlet_Location_Type'] = train['Outlet_Location_Type'].map({'Tier 1':1, 'Tier 2':2, 'Tier 3':3})"
      ]
    },
    {
      "cell_type": "code",
      "execution_count": 21,
      "metadata": {
        "colab": {
          "base_uri": "https://localhost:8080/"
        },
        "id": "WLsGDAjNFO8O",
        "outputId": "6dda9555-c38e-480e-9e18-055dadba1a89"
      },
      "outputs": [
        {
          "output_type": "execute_result",
          "data": {
            "text/plain": [
              "Low Fat    428\n",
              "Regular    117\n",
              "Name: Item_Fat_Content, dtype: int64"
            ]
          },
          "metadata": {},
          "execution_count": 21
        }
      ],
      "source": [
        "train['Item_Fat_Content'].value_counts()"
      ]
    },
    {
      "cell_type": "code",
      "execution_count": 22,
      "metadata": {
        "colab": {
          "base_uri": "https://localhost:8080/"
        },
        "id": "HsSmIRtCFO8P",
        "outputId": "97e61604-7a42-4a5a-c0b9-6c80796f53e0"
      },
      "outputs": [
        {
          "output_type": "execute_result",
          "data": {
            "text/plain": [
              "Item_Weight                0\n",
              "Item_Fat_Content        7978\n",
              "Item_Visibility            0\n",
              "Item_Type                  0\n",
              "Item_MRP                   0\n",
              "Outlet_Size                0\n",
              "Outlet_Location_Type       0\n",
              "Outlet_Type                0\n",
              "Item_Outlet_Sales          0\n",
              "Outlet_Year                0\n",
              "dtype: int64"
            ]
          },
          "metadata": {},
          "execution_count": 22
        }
      ],
      "source": [
        "#train['Item_Fat_Content'] = train['Item_Fat_Content'].replace({'nan':'High Fat'})\n",
        "train.isnull().sum()"
      ]
    },
    {
      "cell_type": "code",
      "execution_count": 23,
      "metadata": {
        "colab": {
          "base_uri": "https://localhost:8080/"
        },
        "id": "q1DA-ykXFO8P",
        "outputId": "6616f798-02b8-4c08-da9c-a43bc04bfb9a"
      },
      "outputs": [
        {
          "output_type": "execute_result",
          "data": {
            "text/plain": [
              "Item_Weight             0\n",
              "Item_Fat_Content        0\n",
              "Item_Visibility         0\n",
              "Item_Type               0\n",
              "Item_MRP                0\n",
              "Outlet_Size             0\n",
              "Outlet_Location_Type    0\n",
              "Outlet_Type             0\n",
              "Item_Outlet_Sales       0\n",
              "Outlet_Year             0\n",
              "dtype: int64"
            ]
          },
          "metadata": {},
          "execution_count": 23
        }
      ],
      "source": [
        "train['Item_Fat_Content'].fillna(train['Item_Fat_Content'].mode()[0],inplace=True)\n",
        "train.isnull().sum()"
      ]
    },
    {
      "cell_type": "code",
      "execution_count": 24,
      "metadata": {
        "colab": {
          "base_uri": "https://localhost:8080/"
        },
        "id": "IO4vFO5pDtNj",
        "outputId": "17982f6e-78bc-4d69-dd5c-d0726a64b8f4"
      },
      "outputs": [
        {
          "output_type": "execute_result",
          "data": {
            "text/plain": [
              "Low Fat    8406\n",
              "Regular     117\n",
              "Name: Item_Fat_Content, dtype: int64"
            ]
          },
          "metadata": {},
          "execution_count": 24
        }
      ],
      "source": [
        "train['Item_Fat_Content'].value_counts()"
      ]
    },
    {
      "cell_type": "markdown",
      "metadata": {
        "id": "77twunnv86--"
      },
      "source": [
        "**Label Encoding**"
      ]
    },
    {
      "cell_type": "code",
      "execution_count": 25,
      "metadata": {
        "colab": {
          "base_uri": "https://localhost:8080/",
          "height": 206
        },
        "id": "RIoEPAweFO8S",
        "outputId": "63c717df-1646-4821-b88a-a05647208866"
      },
      "outputs": [
        {
          "output_type": "execute_result",
          "data": {
            "text/plain": [
              "   Item_Weight  Item_Fat_Content  Item_Visibility  Item_Type  Item_MRP  \\\n",
              "0         9.30                 0         0.016047          4  249.8092   \n",
              "1         5.92                 0         0.019278         14   48.2692   \n",
              "2        17.50                 0         0.016760         10  141.6180   \n",
              "3        19.20                 0         0.000000          6  182.0950   \n",
              "4         8.93                 0         0.000000          9   53.8614   \n",
              "\n",
              "   Outlet_Size  Outlet_Location_Type  Outlet_Type  Item_Outlet_Sales  \\\n",
              "0            2                     0            1          3735.1380   \n",
              "1            2                     2            2           443.4228   \n",
              "2            2                     0            1          2097.2700   \n",
              "3            2                     2            0           732.3800   \n",
              "4            3                     2            1           994.7052   \n",
              "\n",
              "   Outlet_Year  \n",
              "0           23  \n",
              "1           13  \n",
              "2           23  \n",
              "3           24  \n",
              "4           35  "
            ],
            "text/html": [
              "\n",
              "  <div id=\"df-4deebc3f-c71d-4fa2-99d2-e361ca874e27\">\n",
              "    <div class=\"colab-df-container\">\n",
              "      <div>\n",
              "<style scoped>\n",
              "    .dataframe tbody tr th:only-of-type {\n",
              "        vertical-align: middle;\n",
              "    }\n",
              "\n",
              "    .dataframe tbody tr th {\n",
              "        vertical-align: top;\n",
              "    }\n",
              "\n",
              "    .dataframe thead th {\n",
              "        text-align: right;\n",
              "    }\n",
              "</style>\n",
              "<table border=\"1\" class=\"dataframe\">\n",
              "  <thead>\n",
              "    <tr style=\"text-align: right;\">\n",
              "      <th></th>\n",
              "      <th>Item_Weight</th>\n",
              "      <th>Item_Fat_Content</th>\n",
              "      <th>Item_Visibility</th>\n",
              "      <th>Item_Type</th>\n",
              "      <th>Item_MRP</th>\n",
              "      <th>Outlet_Size</th>\n",
              "      <th>Outlet_Location_Type</th>\n",
              "      <th>Outlet_Type</th>\n",
              "      <th>Item_Outlet_Sales</th>\n",
              "      <th>Outlet_Year</th>\n",
              "    </tr>\n",
              "  </thead>\n",
              "  <tbody>\n",
              "    <tr>\n",
              "      <th>0</th>\n",
              "      <td>9.30</td>\n",
              "      <td>0</td>\n",
              "      <td>0.016047</td>\n",
              "      <td>4</td>\n",
              "      <td>249.8092</td>\n",
              "      <td>2</td>\n",
              "      <td>0</td>\n",
              "      <td>1</td>\n",
              "      <td>3735.1380</td>\n",
              "      <td>23</td>\n",
              "    </tr>\n",
              "    <tr>\n",
              "      <th>1</th>\n",
              "      <td>5.92</td>\n",
              "      <td>0</td>\n",
              "      <td>0.019278</td>\n",
              "      <td>14</td>\n",
              "      <td>48.2692</td>\n",
              "      <td>2</td>\n",
              "      <td>2</td>\n",
              "      <td>2</td>\n",
              "      <td>443.4228</td>\n",
              "      <td>13</td>\n",
              "    </tr>\n",
              "    <tr>\n",
              "      <th>2</th>\n",
              "      <td>17.50</td>\n",
              "      <td>0</td>\n",
              "      <td>0.016760</td>\n",
              "      <td>10</td>\n",
              "      <td>141.6180</td>\n",
              "      <td>2</td>\n",
              "      <td>0</td>\n",
              "      <td>1</td>\n",
              "      <td>2097.2700</td>\n",
              "      <td>23</td>\n",
              "    </tr>\n",
              "    <tr>\n",
              "      <th>3</th>\n",
              "      <td>19.20</td>\n",
              "      <td>0</td>\n",
              "      <td>0.000000</td>\n",
              "      <td>6</td>\n",
              "      <td>182.0950</td>\n",
              "      <td>2</td>\n",
              "      <td>2</td>\n",
              "      <td>0</td>\n",
              "      <td>732.3800</td>\n",
              "      <td>24</td>\n",
              "    </tr>\n",
              "    <tr>\n",
              "      <th>4</th>\n",
              "      <td>8.93</td>\n",
              "      <td>0</td>\n",
              "      <td>0.000000</td>\n",
              "      <td>9</td>\n",
              "      <td>53.8614</td>\n",
              "      <td>3</td>\n",
              "      <td>2</td>\n",
              "      <td>1</td>\n",
              "      <td>994.7052</td>\n",
              "      <td>35</td>\n",
              "    </tr>\n",
              "  </tbody>\n",
              "</table>\n",
              "</div>\n",
              "      <button class=\"colab-df-convert\" onclick=\"convertToInteractive('df-4deebc3f-c71d-4fa2-99d2-e361ca874e27')\"\n",
              "              title=\"Convert this dataframe to an interactive table.\"\n",
              "              style=\"display:none;\">\n",
              "        \n",
              "  <svg xmlns=\"http://www.w3.org/2000/svg\" height=\"24px\"viewBox=\"0 0 24 24\"\n",
              "       width=\"24px\">\n",
              "    <path d=\"M0 0h24v24H0V0z\" fill=\"none\"/>\n",
              "    <path d=\"M18.56 5.44l.94 2.06.94-2.06 2.06-.94-2.06-.94-.94-2.06-.94 2.06-2.06.94zm-11 1L8.5 8.5l.94-2.06 2.06-.94-2.06-.94L8.5 2.5l-.94 2.06-2.06.94zm10 10l.94 2.06.94-2.06 2.06-.94-2.06-.94-.94-2.06-.94 2.06-2.06.94z\"/><path d=\"M17.41 7.96l-1.37-1.37c-.4-.4-.92-.59-1.43-.59-.52 0-1.04.2-1.43.59L10.3 9.45l-7.72 7.72c-.78.78-.78 2.05 0 2.83L4 21.41c.39.39.9.59 1.41.59.51 0 1.02-.2 1.41-.59l7.78-7.78 2.81-2.81c.8-.78.8-2.07 0-2.86zM5.41 20L4 18.59l7.72-7.72 1.47 1.35L5.41 20z\"/>\n",
              "  </svg>\n",
              "      </button>\n",
              "      \n",
              "  <style>\n",
              "    .colab-df-container {\n",
              "      display:flex;\n",
              "      flex-wrap:wrap;\n",
              "      gap: 12px;\n",
              "    }\n",
              "\n",
              "    .colab-df-convert {\n",
              "      background-color: #E8F0FE;\n",
              "      border: none;\n",
              "      border-radius: 50%;\n",
              "      cursor: pointer;\n",
              "      display: none;\n",
              "      fill: #1967D2;\n",
              "      height: 32px;\n",
              "      padding: 0 0 0 0;\n",
              "      width: 32px;\n",
              "    }\n",
              "\n",
              "    .colab-df-convert:hover {\n",
              "      background-color: #E2EBFA;\n",
              "      box-shadow: 0px 1px 2px rgba(60, 64, 67, 0.3), 0px 1px 3px 1px rgba(60, 64, 67, 0.15);\n",
              "      fill: #174EA6;\n",
              "    }\n",
              "\n",
              "    [theme=dark] .colab-df-convert {\n",
              "      background-color: #3B4455;\n",
              "      fill: #D2E3FC;\n",
              "    }\n",
              "\n",
              "    [theme=dark] .colab-df-convert:hover {\n",
              "      background-color: #434B5C;\n",
              "      box-shadow: 0px 1px 3px 1px rgba(0, 0, 0, 0.15);\n",
              "      filter: drop-shadow(0px 1px 2px rgba(0, 0, 0, 0.3));\n",
              "      fill: #FFFFFF;\n",
              "    }\n",
              "  </style>\n",
              "\n",
              "      <script>\n",
              "        const buttonEl =\n",
              "          document.querySelector('#df-4deebc3f-c71d-4fa2-99d2-e361ca874e27 button.colab-df-convert');\n",
              "        buttonEl.style.display =\n",
              "          google.colab.kernel.accessAllowed ? 'block' : 'none';\n",
              "\n",
              "        async function convertToInteractive(key) {\n",
              "          const element = document.querySelector('#df-4deebc3f-c71d-4fa2-99d2-e361ca874e27');\n",
              "          const dataTable =\n",
              "            await google.colab.kernel.invokeFunction('convertToInteractive',\n",
              "                                                     [key], {});\n",
              "          if (!dataTable) return;\n",
              "\n",
              "          const docLinkHtml = 'Like what you see? Visit the ' +\n",
              "            '<a target=\"_blank\" href=https://colab.research.google.com/notebooks/data_table.ipynb>data table notebook</a>'\n",
              "            + ' to learn more about interactive tables.';\n",
              "          element.innerHTML = '';\n",
              "          dataTable['output_type'] = 'display_data';\n",
              "          await google.colab.output.renderOutput(dataTable, element);\n",
              "          const docLink = document.createElement('div');\n",
              "          docLink.innerHTML = docLinkHtml;\n",
              "          element.appendChild(docLink);\n",
              "        }\n",
              "      </script>\n",
              "    </div>\n",
              "  </div>\n",
              "  "
            ]
          },
          "metadata": {},
          "execution_count": 25
        }
      ],
      "source": [
        "le = LabelEncoder() \n",
        "train['Item_Fat_Content']= le.fit_transform(train['Item_Fat_Content']) \n",
        "train['Outlet_Location_Type']=le.fit_transform(train['Outlet_Location_Type'])\n",
        "train['Item_Type']=le.fit_transform(train['Item_Type'])\n",
        "train['Outlet_Type']=le.fit_transform(train['Outlet_Type'])\n",
        "\n",
        "train.head()"
      ]
    },
    {
      "cell_type": "code",
      "execution_count": 26,
      "metadata": {
        "colab": {
          "base_uri": "https://localhost:8080/"
        },
        "id": "VoTeMXMqHtAR",
        "outputId": "df2bb7a8-6a10-4dd0-a427-69e525da37dc"
      },
      "outputs": [
        {
          "output_type": "execute_result",
          "data": {
            "text/plain": [
              "(8523, 10)"
            ]
          },
          "metadata": {},
          "execution_count": 26
        }
      ],
      "source": [
        "train.shape"
      ]
    },
    {
      "cell_type": "markdown",
      "metadata": {
        "id": "mkZbAXXDMpB-"
      },
      "source": [
        "# Train Test Split"
      ]
    },
    {
      "cell_type": "code",
      "execution_count": 27,
      "metadata": {
        "id": "nGFBEb1EFO8V"
      },
      "outputs": [],
      "source": [
        "X = train.drop(['Item_Outlet_Sales'],axis=1)\n",
        "y = train['Item_Outlet_Sales']\n",
        "X_train,X_test,y_train,y_test = train_test_split(X,y, test_size=0.3,random_state=42)\n",
        "\n"
      ]
    },
    {
      "cell_type": "code",
      "execution_count": 28,
      "metadata": {
        "colab": {
          "base_uri": "https://localhost:8080/"
        },
        "id": "ELRVcVb-DFzG",
        "outputId": "3ab85a98-6dba-482c-8665-6bebcaa6f39d"
      },
      "outputs": [
        {
          "output_type": "stream",
          "name": "stdout",
          "text": [
            "(8523, 9)\n",
            "(8523,)\n"
          ]
        }
      ],
      "source": [
        "print(X.shape)\n",
        "print(y.shape)\n"
      ]
    },
    {
      "cell_type": "code",
      "execution_count": 29,
      "metadata": {
        "colab": {
          "base_uri": "https://localhost:8080/",
          "height": 424
        },
        "id": "idbPjTjXW5vb",
        "outputId": "d9c570f4-ac51-47fb-dd9f-f616b636392b"
      },
      "outputs": [
        {
          "output_type": "execute_result",
          "data": {
            "text/plain": [
              "      Item_Weight  Item_Fat_Content  Item_Visibility  Item_Type  Item_MRP  \\\n",
              "0           9.300                 0         0.016047          4  249.8092   \n",
              "1           5.920                 0         0.019278         14   48.2692   \n",
              "2          17.500                 0         0.016760         10  141.6180   \n",
              "3          19.200                 0         0.000000          6  182.0950   \n",
              "4           8.930                 0         0.000000          9   53.8614   \n",
              "...           ...               ...              ...        ...       ...   \n",
              "8518        6.865                 0         0.056783         13  214.5218   \n",
              "8519        8.380                 0         0.046982          0  108.1570   \n",
              "8520       10.600                 0         0.035186          8   85.1224   \n",
              "8521        7.210                 0         0.145221         13  103.1332   \n",
              "8522       14.800                 0         0.044878         14   75.4670   \n",
              "\n",
              "      Outlet_Size  Outlet_Location_Type  Outlet_Type  Outlet_Year  \n",
              "0               2                     0            1           23  \n",
              "1               2                     2            2           13  \n",
              "2               2                     0            1           23  \n",
              "3               2                     2            0           24  \n",
              "4               3                     2            1           35  \n",
              "...           ...                   ...          ...          ...  \n",
              "8518            3                     2            1           35  \n",
              "8519            2                     1            1           20  \n",
              "8520            1                     1            1           18  \n",
              "8521            2                     2            2           13  \n",
              "8522            1                     0            1           25  \n",
              "\n",
              "[8523 rows x 9 columns]"
            ],
            "text/html": [
              "\n",
              "  <div id=\"df-30cb6df3-b744-4534-867e-6737085562aa\">\n",
              "    <div class=\"colab-df-container\">\n",
              "      <div>\n",
              "<style scoped>\n",
              "    .dataframe tbody tr th:only-of-type {\n",
              "        vertical-align: middle;\n",
              "    }\n",
              "\n",
              "    .dataframe tbody tr th {\n",
              "        vertical-align: top;\n",
              "    }\n",
              "\n",
              "    .dataframe thead th {\n",
              "        text-align: right;\n",
              "    }\n",
              "</style>\n",
              "<table border=\"1\" class=\"dataframe\">\n",
              "  <thead>\n",
              "    <tr style=\"text-align: right;\">\n",
              "      <th></th>\n",
              "      <th>Item_Weight</th>\n",
              "      <th>Item_Fat_Content</th>\n",
              "      <th>Item_Visibility</th>\n",
              "      <th>Item_Type</th>\n",
              "      <th>Item_MRP</th>\n",
              "      <th>Outlet_Size</th>\n",
              "      <th>Outlet_Location_Type</th>\n",
              "      <th>Outlet_Type</th>\n",
              "      <th>Outlet_Year</th>\n",
              "    </tr>\n",
              "  </thead>\n",
              "  <tbody>\n",
              "    <tr>\n",
              "      <th>0</th>\n",
              "      <td>9.300</td>\n",
              "      <td>0</td>\n",
              "      <td>0.016047</td>\n",
              "      <td>4</td>\n",
              "      <td>249.8092</td>\n",
              "      <td>2</td>\n",
              "      <td>0</td>\n",
              "      <td>1</td>\n",
              "      <td>23</td>\n",
              "    </tr>\n",
              "    <tr>\n",
              "      <th>1</th>\n",
              "      <td>5.920</td>\n",
              "      <td>0</td>\n",
              "      <td>0.019278</td>\n",
              "      <td>14</td>\n",
              "      <td>48.2692</td>\n",
              "      <td>2</td>\n",
              "      <td>2</td>\n",
              "      <td>2</td>\n",
              "      <td>13</td>\n",
              "    </tr>\n",
              "    <tr>\n",
              "      <th>2</th>\n",
              "      <td>17.500</td>\n",
              "      <td>0</td>\n",
              "      <td>0.016760</td>\n",
              "      <td>10</td>\n",
              "      <td>141.6180</td>\n",
              "      <td>2</td>\n",
              "      <td>0</td>\n",
              "      <td>1</td>\n",
              "      <td>23</td>\n",
              "    </tr>\n",
              "    <tr>\n",
              "      <th>3</th>\n",
              "      <td>19.200</td>\n",
              "      <td>0</td>\n",
              "      <td>0.000000</td>\n",
              "      <td>6</td>\n",
              "      <td>182.0950</td>\n",
              "      <td>2</td>\n",
              "      <td>2</td>\n",
              "      <td>0</td>\n",
              "      <td>24</td>\n",
              "    </tr>\n",
              "    <tr>\n",
              "      <th>4</th>\n",
              "      <td>8.930</td>\n",
              "      <td>0</td>\n",
              "      <td>0.000000</td>\n",
              "      <td>9</td>\n",
              "      <td>53.8614</td>\n",
              "      <td>3</td>\n",
              "      <td>2</td>\n",
              "      <td>1</td>\n",
              "      <td>35</td>\n",
              "    </tr>\n",
              "    <tr>\n",
              "      <th>...</th>\n",
              "      <td>...</td>\n",
              "      <td>...</td>\n",
              "      <td>...</td>\n",
              "      <td>...</td>\n",
              "      <td>...</td>\n",
              "      <td>...</td>\n",
              "      <td>...</td>\n",
              "      <td>...</td>\n",
              "      <td>...</td>\n",
              "    </tr>\n",
              "    <tr>\n",
              "      <th>8518</th>\n",
              "      <td>6.865</td>\n",
              "      <td>0</td>\n",
              "      <td>0.056783</td>\n",
              "      <td>13</td>\n",
              "      <td>214.5218</td>\n",
              "      <td>3</td>\n",
              "      <td>2</td>\n",
              "      <td>1</td>\n",
              "      <td>35</td>\n",
              "    </tr>\n",
              "    <tr>\n",
              "      <th>8519</th>\n",
              "      <td>8.380</td>\n",
              "      <td>0</td>\n",
              "      <td>0.046982</td>\n",
              "      <td>0</td>\n",
              "      <td>108.1570</td>\n",
              "      <td>2</td>\n",
              "      <td>1</td>\n",
              "      <td>1</td>\n",
              "      <td>20</td>\n",
              "    </tr>\n",
              "    <tr>\n",
              "      <th>8520</th>\n",
              "      <td>10.600</td>\n",
              "      <td>0</td>\n",
              "      <td>0.035186</td>\n",
              "      <td>8</td>\n",
              "      <td>85.1224</td>\n",
              "      <td>1</td>\n",
              "      <td>1</td>\n",
              "      <td>1</td>\n",
              "      <td>18</td>\n",
              "    </tr>\n",
              "    <tr>\n",
              "      <th>8521</th>\n",
              "      <td>7.210</td>\n",
              "      <td>0</td>\n",
              "      <td>0.145221</td>\n",
              "      <td>13</td>\n",
              "      <td>103.1332</td>\n",
              "      <td>2</td>\n",
              "      <td>2</td>\n",
              "      <td>2</td>\n",
              "      <td>13</td>\n",
              "    </tr>\n",
              "    <tr>\n",
              "      <th>8522</th>\n",
              "      <td>14.800</td>\n",
              "      <td>0</td>\n",
              "      <td>0.044878</td>\n",
              "      <td>14</td>\n",
              "      <td>75.4670</td>\n",
              "      <td>1</td>\n",
              "      <td>0</td>\n",
              "      <td>1</td>\n",
              "      <td>25</td>\n",
              "    </tr>\n",
              "  </tbody>\n",
              "</table>\n",
              "<p>8523 rows × 9 columns</p>\n",
              "</div>\n",
              "      <button class=\"colab-df-convert\" onclick=\"convertToInteractive('df-30cb6df3-b744-4534-867e-6737085562aa')\"\n",
              "              title=\"Convert this dataframe to an interactive table.\"\n",
              "              style=\"display:none;\">\n",
              "        \n",
              "  <svg xmlns=\"http://www.w3.org/2000/svg\" height=\"24px\"viewBox=\"0 0 24 24\"\n",
              "       width=\"24px\">\n",
              "    <path d=\"M0 0h24v24H0V0z\" fill=\"none\"/>\n",
              "    <path d=\"M18.56 5.44l.94 2.06.94-2.06 2.06-.94-2.06-.94-.94-2.06-.94 2.06-2.06.94zm-11 1L8.5 8.5l.94-2.06 2.06-.94-2.06-.94L8.5 2.5l-.94 2.06-2.06.94zm10 10l.94 2.06.94-2.06 2.06-.94-2.06-.94-.94-2.06-.94 2.06-2.06.94z\"/><path d=\"M17.41 7.96l-1.37-1.37c-.4-.4-.92-.59-1.43-.59-.52 0-1.04.2-1.43.59L10.3 9.45l-7.72 7.72c-.78.78-.78 2.05 0 2.83L4 21.41c.39.39.9.59 1.41.59.51 0 1.02-.2 1.41-.59l7.78-7.78 2.81-2.81c.8-.78.8-2.07 0-2.86zM5.41 20L4 18.59l7.72-7.72 1.47 1.35L5.41 20z\"/>\n",
              "  </svg>\n",
              "      </button>\n",
              "      \n",
              "  <style>\n",
              "    .colab-df-container {\n",
              "      display:flex;\n",
              "      flex-wrap:wrap;\n",
              "      gap: 12px;\n",
              "    }\n",
              "\n",
              "    .colab-df-convert {\n",
              "      background-color: #E8F0FE;\n",
              "      border: none;\n",
              "      border-radius: 50%;\n",
              "      cursor: pointer;\n",
              "      display: none;\n",
              "      fill: #1967D2;\n",
              "      height: 32px;\n",
              "      padding: 0 0 0 0;\n",
              "      width: 32px;\n",
              "    }\n",
              "\n",
              "    .colab-df-convert:hover {\n",
              "      background-color: #E2EBFA;\n",
              "      box-shadow: 0px 1px 2px rgba(60, 64, 67, 0.3), 0px 1px 3px 1px rgba(60, 64, 67, 0.15);\n",
              "      fill: #174EA6;\n",
              "    }\n",
              "\n",
              "    [theme=dark] .colab-df-convert {\n",
              "      background-color: #3B4455;\n",
              "      fill: #D2E3FC;\n",
              "    }\n",
              "\n",
              "    [theme=dark] .colab-df-convert:hover {\n",
              "      background-color: #434B5C;\n",
              "      box-shadow: 0px 1px 3px 1px rgba(0, 0, 0, 0.15);\n",
              "      filter: drop-shadow(0px 1px 2px rgba(0, 0, 0, 0.3));\n",
              "      fill: #FFFFFF;\n",
              "    }\n",
              "  </style>\n",
              "\n",
              "      <script>\n",
              "        const buttonEl =\n",
              "          document.querySelector('#df-30cb6df3-b744-4534-867e-6737085562aa button.colab-df-convert');\n",
              "        buttonEl.style.display =\n",
              "          google.colab.kernel.accessAllowed ? 'block' : 'none';\n",
              "\n",
              "        async function convertToInteractive(key) {\n",
              "          const element = document.querySelector('#df-30cb6df3-b744-4534-867e-6737085562aa');\n",
              "          const dataTable =\n",
              "            await google.colab.kernel.invokeFunction('convertToInteractive',\n",
              "                                                     [key], {});\n",
              "          if (!dataTable) return;\n",
              "\n",
              "          const docLinkHtml = 'Like what you see? Visit the ' +\n",
              "            '<a target=\"_blank\" href=https://colab.research.google.com/notebooks/data_table.ipynb>data table notebook</a>'\n",
              "            + ' to learn more about interactive tables.';\n",
              "          element.innerHTML = '';\n",
              "          dataTable['output_type'] = 'display_data';\n",
              "          await google.colab.output.renderOutput(dataTable, element);\n",
              "          const docLink = document.createElement('div');\n",
              "          docLink.innerHTML = docLinkHtml;\n",
              "          element.appendChild(docLink);\n",
              "        }\n",
              "      </script>\n",
              "    </div>\n",
              "  </div>\n",
              "  "
            ]
          },
          "metadata": {},
          "execution_count": 29
        }
      ],
      "source": [
        "X"
      ]
    },
    {
      "cell_type": "markdown",
      "metadata": {
        "id": "g3ZObSETNCoA"
      },
      "source": [
        "# Scale Down"
      ]
    },
    {
      "cell_type": "code",
      "execution_count": 30,
      "metadata": {
        "id": "1TQploCBM7jl"
      },
      "outputs": [],
      "source": [
        "sc = StandardScaler()\n",
        "X_train_sc = sc.fit_transform(X_train)\n",
        "X_test_sc = sc.transform(X_test)"
      ]
    },
    {
      "cell_type": "code",
      "execution_count": 31,
      "metadata": {
        "id": "MVSJrVlU4XAN"
      },
      "outputs": [],
      "source": [
        "# sc = MinMaxScaler()\n",
        "# X_train_sc = sc.fit_transform(X_train)\n",
        "# X_test_sc = sc.transform(X_test)\n",
        "#X_train_sc = pd.DataFrame(X_train_sc)\n",
        "#X_test_sc = pd.DataFrame(X_test_sc)"
      ]
    },
    {
      "cell_type": "code",
      "execution_count": 32,
      "metadata": {
        "colab": {
          "base_uri": "https://localhost:8080/"
        },
        "id": "9FfUNDDdMd7_",
        "outputId": "dfc345a5-2f5f-460c-e3ee-32ef416cb740"
      },
      "outputs": [
        {
          "output_type": "execute_result",
          "data": {
            "text/plain": [
              "['/content/drive/MyDrive/Luminar_Projects/Big_mart_Sales_Prediction/scaled.pkl']"
            ]
          },
          "metadata": {},
          "execution_count": 32
        }
      ],
      "source": [
        "import joblib\n",
        "joblib.dump(sc,'/content/drive/MyDrive/Luminar_Projects/Big_mart_Sales_Prediction/scaled.pkl')"
      ]
    },
    {
      "cell_type": "markdown",
      "metadata": {
        "id": "xu6bf4uNEbqh"
      },
      "source": [
        "# Model Building"
      ]
    },
    {
      "cell_type": "markdown",
      "metadata": {
        "id": "fbzcwDxc5mWJ"
      },
      "source": [
        "**Applying all Regression Algorithms**"
      ]
    },
    {
      "cell_type": "code",
      "execution_count": 33,
      "metadata": {
        "colab": {
          "base_uri": "https://localhost:8080/"
        },
        "id": "6njeBthcQhOc",
        "outputId": "20bf581a-5727-47ca-84a3-4bc44db3a015"
      },
      "outputs": [
        {
          "output_type": "execute_result",
          "data": {
            "text/plain": [
              "VotingRegressor(estimators=[('Linear_Regression', LinearRegression()),\n",
              "                            ('Decision_Tree', DecisionTreeRegressor()),\n",
              "                            ('Random_Forest', RandomForestRegressor()),\n",
              "                            ('SVR', SVR()),\n",
              "                            ('Gradient_Boosting', GradientBoostingRegressor())])"
            ]
          },
          "metadata": {},
          "execution_count": 33
        }
      ],
      "source": [
        "lr_reg = LinearRegression()\n",
        "r_reg = Ridge()\n",
        "ls_reg = Lasso()\n",
        "dt_reg = DecisionTreeRegressor() \n",
        "rf_reg = RandomForestRegressor()\n",
        "svr_reg = SVR()\n",
        "Adb_reg = AdaBoostRegressor()\n",
        "gb_reg = GradientBoostingRegressor()\n",
        "xgb_reg = XGBRegressor(objective ='reg:squarederror')\n",
        "voting = VotingRegressor( estimators=[('Linear_Regression',lr_reg),('Decision_Tree',dt_reg),('Random_Forest',rf_reg),\n",
        "                                    ('SVR',svr_reg),('Gradient_Boosting',gb_reg)] )   #(Adb_reg,'Ada_boosting'),(xgb_reg,'xgboost')\n",
        "voting.fit(X_train,y_train)"
      ]
    },
    {
      "cell_type": "code",
      "execution_count": 34,
      "metadata": {
        "colab": {
          "base_uri": "https://localhost:8080/"
        },
        "id": "ncwBifqp_jLi",
        "outputId": "25a3f382-3010-46a9-ada7-eb4dfddef33f"
      },
      "outputs": [
        {
          "output_type": "stream",
          "name": "stdout",
          "text": [
            "LinearRegression 0.50500664327337\n",
            "LinearRegression 0.5114305652860127\n",
            "RMSE: 1169.820423954255\n",
            "=========================\n",
            "Ridge 0.5049958805055009\n",
            "Ridge 0.5116040065111802\n",
            "RMSE: 1169.6127635039902\n",
            "=========================\n",
            "Lasso 0.5048193070936101\n",
            "Lasso 0.512040384028578\n",
            "RMSE: 1169.0901273852771\n",
            "=========================\n",
            "DecisionTreeRegressor 1.0\n",
            "DecisionTreeRegressor 0.18383378119039073\n",
            "RMSE: 1511.9776109905765\n",
            "=========================\n",
            "RandomForestRegressor 0.9368410119395694\n",
            "RandomForestRegressor 0.5593709708487498\n",
            "RMSE: 1110.945119535706\n",
            "=========================\n",
            "SVR 0.17039294451158216\n",
            "SVR 0.18565461043582943\n",
            "RMSE: 1510.2900930635367\n",
            "=========================\n",
            "AdaBoostRegressor 0.4934354595407453\n",
            "AdaBoostRegressor 0.46466461484627664\n",
            "RMSE: 1224.528868088915\n",
            "=========================\n",
            "GradientBoostingRegressor 0.6374450781746623\n",
            "GradientBoostingRegressor 0.5967625154063572\n",
            "RMSE: 1062.7631835626878\n",
            "=========================\n",
            "XGBRegressor 0.6336548755449336\n",
            "XGBRegressor 0.5989174863211857\n",
            "RMSE: 1059.9195840969317\n",
            "=========================\n",
            "VotingRegressor 0.7953529776587243\n",
            "VotingRegressor 0.5610675876992999\n",
            "RMSE: 1108.8042414256004\n",
            "=========================\n"
          ]
        }
      ],
      "source": [
        "for reg in (lr_reg,r_reg,ls_reg,dt_reg,rf_reg,svr_reg,Adb_reg,gb_reg,xgb_reg,voting):\n",
        "  reg.fit(X_train, y_train) \n",
        "\n",
        "  y_pred = reg.predict(X_test)\n",
        "  print(reg.__class__.__name__, reg.score(X_train,y_train))\n",
        "  print(reg.__class__.__name__, reg.score(X_test,y_test))\n",
        "  print('RMSE:', np.sqrt(metrics.mean_squared_error(y_test, y_pred)))\n",
        "  print(\"=========================\")\n"
      ]
    },
    {
      "cell_type": "markdown",
      "metadata": {
        "id": "UO70K4wBA05u"
      },
      "source": [
        "# Hyperparameter Tunning"
      ]
    },
    {
      "cell_type": "code",
      "execution_count": 35,
      "metadata": {
        "id": "ooPtAmcZChai"
      },
      "outputs": [],
      "source": [
        "reg_list = [lr_reg,r_reg,ls_reg,dt_reg,rf_reg,Adb_reg,gb_reg,svr_reg,xgb_reg]\n",
        "\n",
        "grid_params_lr = [{'fit_intercept' : [True, False],'normalize' : [True, False]}]  \n",
        "\n",
        "grid_params_r= [{'alpha':[550, 580, 600, 620, 650],}] \n",
        "\n",
        "grid_params_ls= [{'alpha':[0.005, 0.02, 0.03, 0.0, 0.06]}] \n",
        "\n",
        "grid_params_dt =[{'criterion':['squared_error','friedman_mse', 'absolute_error'], 'splitter':['best','random'],'max_depth':[3,4,5],'min_samples_split':[2,3,4],'max_features':[\"auto\",\"sqrt\",\"log2\"]}] \n",
        "\n",
        "grid_params_rf=[{'bootstrap': [True], 'max_depth': [5, 10, None], 'max_features': ['sqrt', 'log2'], 'n_estimators': [5, 6, 7, 8, 9, 10, 11, 12, 13, 15]}] \n",
        "\n",
        "grid_params_adaboost=[{'n_estimators':[10,50,250,1000],'learning_rate':[0.01,0.1],'loss':['linear','square','exponential']}] \n",
        "\n",
        "grid_params_grad=[{'loss':['squared_error','absolute_error','huber','quantile'],'learning_rate':[1,7,9],'criterion':['friedman_mse','squared_error']}] \n",
        "\n",
        "grid_params_svr=[{'kernel':['linear','poly','rbf'],'degree':[3,4,5]}] \n",
        "\n",
        "grid_params_xgb=[{'n_estimators': [100, 500, 900, 1100, 1500],'max_depth': [2, 3, 5, 10, 15],'booster':['gbtree','gblinear'],'learning_rate':[0.05,0.1,0.15,0.20]}] \n",
        "\n",
        "reg_params = [grid_params_lr,grid_params_r,grid_params_ls,grid_params_dt,grid_params_rf,grid_params_adaboost,grid_params_grad,grid_params_svr,grid_params_xgb] #,grid_params_r,grid_params_ls\n"
      ]
    },
    {
      "cell_type": "code",
      "execution_count": 36,
      "metadata": {
        "colab": {
          "base_uri": "https://localhost:8080/"
        },
        "id": "VLYxy7xfO9pm",
        "outputId": "fd30b765-f439-42dc-d48b-f6b764ec8932"
      },
      "outputs": [
        {
          "output_type": "stream",
          "name": "stdout",
          "text": [
            "The Regressor is LinearRegression() and its hyper params are [{'fit_intercept': [True, False], 'normalize': [True, False]}]\n",
            "The Train accuracy for the LinearRegression() is 0.50500664327337\n",
            "The Test accuracy for the LinearRegression() is 0.5114305652860129\n",
            "====================\n",
            "\n",
            "The Regressor is Ridge() and its hyper params are [{'alpha': [550, 580, 600, 620, 650]}]\n",
            "The Train accuracy for the Ridge() is 0.4991452206560849\n",
            "The Test accuracy for the Ridge() is 0.5082119317816889\n",
            "====================\n",
            "\n",
            "The Regressor is Lasso() and its hyper params are [{'alpha': [0.005, 0.02, 0.03, 0.0, 0.06]}]\n",
            "The Train accuracy for the Lasso() is 0.5050066237902434\n",
            "The Test accuracy for the Lasso() is 0.5114370891203552\n",
            "====================\n",
            "\n",
            "The Regressor is DecisionTreeRegressor() and its hyper params are [{'criterion': ['squared_error', 'friedman_mse', 'absolute_error'], 'splitter': ['best', 'random'], 'max_depth': [3, 4, 5], 'min_samples_split': [2, 3, 4], 'max_features': ['auto', 'sqrt', 'log2']}]\n",
            "The Train accuracy for the DecisionTreeRegressor() is 0.6046170757644764\n",
            "The Test accuracy for the DecisionTreeRegressor() is 0.5970783954282135\n",
            "====================\n",
            "\n",
            "The Regressor is RandomForestRegressor() and its hyper params are [{'bootstrap': [True], 'max_depth': [5, 10, None], 'max_features': ['sqrt', 'log2'], 'n_estimators': [5, 6, 7, 8, 9, 10, 11, 12, 13, 15]}]\n",
            "The Train accuracy for the RandomForestRegressor() is 0.7022032658778743\n",
            "The Test accuracy for the RandomForestRegressor() is 0.5887667924140716\n",
            "====================\n",
            "\n",
            "The Regressor is AdaBoostRegressor() and its hyper params are [{'n_estimators': [10, 50, 250, 1000], 'learning_rate': [0.01, 0.1], 'loss': ['linear', 'square', 'exponential']}]\n",
            "The Train accuracy for the AdaBoostRegressor() is 0.5826762876508733\n",
            "The Test accuracy for the AdaBoostRegressor() is 0.5746391707405476\n",
            "====================\n",
            "\n",
            "The Regressor is GradientBoostingRegressor() and its hyper params are [{'loss': ['squared_error', 'absolute_error', 'huber', 'quantile'], 'learning_rate': [1, 7, 9], 'criterion': ['friedman_mse', 'squared_error']}]\n",
            "The Train accuracy for the GradientBoostingRegressor() is 0.6158145463518877\n",
            "The Test accuracy for the GradientBoostingRegressor() is 0.5487318262901091\n",
            "====================\n",
            "\n",
            "The Regressor is SVR() and its hyper params are [{'kernel': ['linear', 'poly', 'rbf'], 'degree': [3, 4, 5]}]\n",
            "The Train accuracy for the SVR() is 0.4501329856150128\n",
            "The Test accuracy for the SVR() is 0.4658048307045328\n",
            "====================\n",
            "\n",
            "The Regressor is XGBRegressor(objective='reg:squarederror') and its hyper params are [{'n_estimators': [100, 500, 900, 1100, 1500], 'max_depth': [2, 3, 5, 10, 15], 'booster': ['gbtree', 'gblinear'], 'learning_rate': [0.05, 0.1, 0.15, 0.2]}]\n",
            "The Train accuracy for the XGBRegressor(objective='reg:squarederror') is 0.618584263024717\n",
            "The Test accuracy for the XGBRegressor(objective='reg:squarederror') is 0.6028398922130231\n",
            "====================\n",
            "\n"
          ]
        }
      ],
      "source": [
        "for reg,reg_param in zip(reg_list,reg_params):\n",
        "\n",
        "  print(f\"The Regressor is {reg} and its hyper params are {reg_param}\") \n",
        "  grid = GridSearchCV(estimator=reg, param_grid=reg_param,cv=5,scoring='r2')        #n_iter=50,scoring = 'neg_mean_absolute_error',n_jobs = 4,return_train_score = True,random_state=42\n",
        "  grid.fit(X_train_sc,y_train) \n",
        " \n",
        "  print(f\"The Train accuracy for the {reg} is {grid.score(X_train_sc,y_train)}\") \n",
        "  print(f\"The Test accuracy for the {reg} is {grid.score(X_test_sc,y_test)}\") \n",
        "  print(\"====================\\n\")"
      ]
    },
    {
      "cell_type": "code",
      "source": [
        "grid.best_estimator_"
      ],
      "metadata": {
        "id": "ywGnu676X6UQ",
        "colab": {
          "base_uri": "https://localhost:8080/"
        },
        "outputId": "2090762a-2903-425c-8929-49975f872d06"
      },
      "execution_count": 37,
      "outputs": [
        {
          "output_type": "execute_result",
          "data": {
            "text/plain": [
              "XGBRegressor(learning_rate=0.05, objective='reg:squarederror')"
            ]
          },
          "metadata": {},
          "execution_count": 37
        }
      ]
    },
    {
      "cell_type": "code",
      "source": [
        "grid.best_params_"
      ],
      "metadata": {
        "colab": {
          "base_uri": "https://localhost:8080/"
        },
        "id": "3vd-FaV4GeJT",
        "outputId": "41feafcb-4e75-4223-a518-a8e6c1855f68"
      },
      "execution_count": 41,
      "outputs": [
        {
          "output_type": "execute_result",
          "data": {
            "text/plain": [
              "{'booster': 'gbtree',\n",
              " 'learning_rate': 0.05,\n",
              " 'max_depth': 3,\n",
              " 'n_estimators': 100}"
            ]
          },
          "metadata": {},
          "execution_count": 41
        }
      ]
    },
    {
      "cell_type": "markdown",
      "metadata": {
        "id": "bZwPqaWs-Gqu"
      },
      "source": [
        "Making the best model - XGBRegressor"
      ]
    },
    {
      "cell_type": "code",
      "execution_count": 43,
      "metadata": {
        "id": "sgkUeyoWb3Eg",
        "colab": {
          "base_uri": "https://localhost:8080/"
        },
        "outputId": "fdef511a-e6bd-4aa6-d7a9-61d4f8703194"
      },
      "outputs": [
        {
          "output_type": "execute_result",
          "data": {
            "text/plain": [
              "XGBRegressor(learning_rate=0.05, objective='reg:squarederror')"
            ]
          },
          "metadata": {},
          "execution_count": 43
        }
      ],
      "source": [
        "Xgb_reg = XGBRegressor(objective ='reg:squarederror',booster='gbtree',learning_rate=0.05,max_depth=3,n_estimators=100) \n",
        "Xgb_reg.fit(X_train_sc,y_train)"
      ]
    },
    {
      "cell_type": "markdown",
      "source": [
        "Saving the model"
      ],
      "metadata": {
        "id": "JMZ5MnP-i-Wq"
      }
    },
    {
      "cell_type": "code",
      "source": [
        "import joblib\n",
        "joblib.dump(Xgb_reg,'/content/drive/MyDrive/Luminar_Projects/Big_mart_Sales_Prediction/model.pkl')\n"
      ],
      "metadata": {
        "id": "_n20do_Ji9G9",
        "colab": {
          "base_uri": "https://localhost:8080/"
        },
        "outputId": "73276296-7b8d-4259-a650-e825b2e8d535"
      },
      "execution_count": 44,
      "outputs": [
        {
          "output_type": "execute_result",
          "data": {
            "text/plain": [
              "['/content/drive/MyDrive/Luminar_Projects/Big_mart_Sales_Prediction/model.pkl']"
            ]
          },
          "metadata": {},
          "execution_count": 44
        }
      ]
    },
    {
      "cell_type": "code",
      "source": [
        "# ! pip install xgboost==1.6"
      ],
      "metadata": {
        "id": "n0w_13TVHCeZ"
      },
      "execution_count": 40,
      "outputs": []
    },
    {
      "cell_type": "code",
      "source": [],
      "metadata": {
        "id": "fhQ5cP3spOcJ"
      },
      "execution_count": 40,
      "outputs": []
    }
  ],
  "metadata": {
    "accelerator": "GPU",
    "colab": {
      "collapsed_sections": [],
      "provenance": [],
      "include_colab_link": true
    },
    "gpuClass": "standard",
    "kernelspec": {
      "display_name": "Python 3 (ipykernel)",
      "language": "python",
      "name": "python3"
    },
    "language_info": {
      "codemirror_mode": {
        "name": "ipython",
        "version": 3
      },
      "file_extension": ".py",
      "mimetype": "text/x-python",
      "name": "python",
      "nbconvert_exporter": "python",
      "pygments_lexer": "ipython3",
      "version": "3.9.7"
    },
    "vscode": {
      "interpreter": {
        "hash": "1448b48b023bcc9c3d4a79e814720a10ca6d4244f75e0f7ce4af58f96ba2b7d3"
      }
    }
  },
  "nbformat": 4,
  "nbformat_minor": 0
}